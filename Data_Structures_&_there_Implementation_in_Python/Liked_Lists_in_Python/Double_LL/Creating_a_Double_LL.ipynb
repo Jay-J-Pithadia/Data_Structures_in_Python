{
 "cells": [
  {
   "cell_type": "markdown",
   "metadata": {},
   "source": [
    "# Double Linked List (DLL)"
   ]
  },
  {
   "cell_type": "code",
   "execution_count": 2,
   "metadata": {},
   "outputs": [
    {
     "name": "stdout",
     "output_type": "stream",
     "text": [
      "Given Doubly linked list is :\n",
      "1 <=> 2 <=> 3 <=> 4 <=> 5 <=> 6 <=> 7 <=> 8 <=> 9 <=> 10 <=> Null\n"
     ]
    }
   ],
   "source": [
    "\"\"\" \n",
    "First we define a class for creating a Node for our DLL\n",
    "which contains a three things (i.e positon of previous node, data value and positon of next node).\n",
    "here, initially we have given previous and next address to none,\n",
    "as we are simply creating a node not linking it with another node,\n",
    "for linking, we have another class i.e. Doubly_Linked_List\n",
    "\"\"\"\n",
    "class Node:\n",
    "    def __init__(self,data):\n",
    "        self.data = data\n",
    "        self.prev = None\n",
    "        self.next = None\n",
    "\n",
    "\"\"\"\n",
    "Here, we are making a class for linking nodes.\n",
    "So we know that every LL contains a starting node i.e. Head\n",
    "but here, at starting of this program, our DLL is empty, \n",
    "so we have made head pointer to none.\n",
    "\"\"\"\n",
    "class Doubly_Linked_List:\n",
    "    def __init__(self):\n",
    "        self.head = None\n",
    "\n",
    "    # here, we are making insert function \n",
    "    # to insert nodes to our newly created DLL\n",
    "    def Insert(self, data):\n",
    "        \n",
    "        # so first we have to make a node from given data value\n",
    "        newNode = Node(data)\n",
    "\n",
    "        \"\"\" \n",
    "        Then, we are checking if our DLL is empty of not \n",
    "        i.e. if self.head is none then it will be empty \n",
    "        and program will go to the else part,\n",
    "        (i.e it will take this node as head),\n",
    "\n",
    "        **Note: at first iteration, program will definetly go in else part,\n",
    "        as at starting, our DLL would be empty\n",
    "        \"\"\"\n",
    "        if self.head:\n",
    "            \"\"\"\n",
    "            We are starting with a pointer 'current'\n",
    "            which is pointing to the head at starting\n",
    "            And it will go until the last element (using while loop condition)\n",
    "            where current.next will be None\n",
    "            \"\"\"\n",
    "            current = self.head\n",
    "            while current.next != None:\n",
    "                current = current.next\n",
    "\n",
    "            \"\"\"\n",
    "            Now, at this point, where our current.next is none \n",
    "            and we are out of our while loop\n",
    "            we are simply adding the newNode at last position,\n",
    "            (i.e. we are giving next address of current node to newNode\n",
    "            and previous address of newNode to current node)\n",
    "            So that it will make double connection in our DLL\n",
    "            (as shown in the reference link)\n",
    "            \"\"\"\n",
    "            current.next = newNode\n",
    "            newNode.prev = current\n",
    "        else:\n",
    "            self.head = newNode\n",
    "\n",
    "    # Here, we are just writing a function to print \n",
    "    # the values in our newly created DLL\n",
    "    def Print_DLL(self):\n",
    "        current = self.head\n",
    "        while current:\n",
    "            print(current.data, end=\" <=> \")\n",
    "            current = current.next\n",
    "        print(\"Null\")\n",
    "\n",
    "dll = Doubly_Linked_List()\n",
    "dll.Insert(1)\n",
    "dll.Insert(2)\n",
    "dll.Insert(3)\n",
    "dll.Insert(4)\n",
    "dll.Insert(5)\n",
    "dll.Insert(6)\n",
    "dll.Insert(7)\n",
    "dll.Insert(8)\n",
    "dll.Insert(9)\n",
    "dll.Insert(10)\n",
    "print(\"Given Doubly linked list is :\")\n",
    "dll.Print_DLL()"
   ]
  },
  {
   "cell_type": "code",
   "execution_count": null,
   "metadata": {},
   "outputs": [],
   "source": []
  }
 ],
 "metadata": {
  "interpreter": {
   "hash": "ac59ebe37160ed0dfa835113d9b8498d9f09ceb179beaac4002f036b9467c963"
  },
  "kernelspec": {
   "display_name": "Python 3.9.7 64-bit",
   "language": "python",
   "name": "python3"
  },
  "language_info": {
   "codemirror_mode": {
    "name": "ipython",
    "version": 3
   },
   "file_extension": ".py",
   "mimetype": "text/x-python",
   "name": "python",
   "nbconvert_exporter": "python",
   "pygments_lexer": "ipython3",
   "version": "3.9.7"
  },
  "orig_nbformat": 4
 },
 "nbformat": 4,
 "nbformat_minor": 2
}
