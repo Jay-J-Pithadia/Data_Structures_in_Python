{
 "cells": [
  {
   "cell_type": "markdown",
   "metadata": {},
   "source": [
    "# Single Linked Lists"
   ]
  },
  {
   "cell_type": "markdown",
   "metadata": {},
   "source": [
    "### Here, we are using Python Class Method to create a basic single LL.\n",
    "### To know more about how to create basic classes in Python, follow link below:\n",
    "### https://www.javatpoint.com/python-objects-classes"
   ]
  },
  {
   "cell_type": "code",
   "execution_count": 3,
   "metadata": {},
   "outputs": [
    {
     "name": "stdout",
     "output_type": "stream",
     "text": [
      "Given Singly linked list is : \n",
      "1 => 2 => 3 => 4 => 5 => 6 => 7 => 8 => 9 => 10 => Null\n"
     ]
    }
   ],
   "source": [
    "\"\"\" \n",
    "First we define a class for creating a Node\n",
    "which contains a data value and positon of next node.\n",
    "here, initially we have given next address to none,\n",
    "as we are simply creating a node not linking it with another node,\n",
    "for linking, we have another class i.e. LinkedList\n",
    "\"\"\"\n",
    "class Node:\n",
    "    def __init__(self,data):\n",
    "        self.data = data\n",
    "        self.next = None\n",
    "\n",
    "\"\"\"\n",
    "Here, we are making a class for linking nodes.\n",
    "So we know that every LL contains a starting node i.e. Head\n",
    "but here, at starting of this program, our LL is empty, \n",
    "so we have made head pointer to none.\n",
    "\"\"\"\n",
    "class LinkedList:\n",
    "    def __init__(self):\n",
    "        self.head = None\n",
    "\n",
    "    # here, we are making insert function to insert nodes to our LL\n",
    "    def Insert(self, data):\n",
    "        # so first we have to make a node from given data value\n",
    "        newNode = Node(data)\n",
    "        \n",
    "        \"\"\" \n",
    "        Then, we are checking if our LL is empty of not \n",
    "        i.e. if self.head is none then it will be empty \n",
    "        and program will go to the else part \n",
    "        (i.e it will take this node as head),\n",
    "\n",
    "        **Note: at first iteration, program will definetly go in else part,\n",
    "        as at starting, our LL would be empty\n",
    "        \"\"\"\n",
    "        if self.head:\n",
    "            \"\"\"\n",
    "            We are starting with a pointer 'current'\n",
    "            which is pointing to the head at starting\n",
    "            And it will go until the last element (using while loop condition)\n",
    "            where current.next will be None\n",
    "            \"\"\"\n",
    "            current = self.head\n",
    "            while current.next:\n",
    "                current = current.next\n",
    "            \n",
    "            \"\"\"\n",
    "            Now, at this point, where our current.next is none \n",
    "            and we are out of our while loop\n",
    "            we are simply adding the newNode at last position,\n",
    "            So now our newNode would be the last element of my LL \n",
    "            \"\"\"\n",
    "            current.next = newNode\n",
    "        else:\n",
    "            self.head = newNode\n",
    "\n",
    "\n",
    "    # Here, we are just writing a function to print the LL\n",
    "    def PrintLL(self):\n",
    "        current = self.head\n",
    "        if self.head:\n",
    "            while current:\n",
    "                print(current.data, end=\" => \")\n",
    "                current = current.next\n",
    "            print(\"Null\")\n",
    "        else:\n",
    "            print(\"Your Linked List is Empty...\")\n",
    "\n",
    "\n",
    "ll = LinkedList()\n",
    "# ll.Insert(1)\n",
    "# ll.Insert(2)\n",
    "# ll.Insert(3)\n",
    "# ll.Insert(4)\n",
    "# ll.Insert(5)\n",
    "# ll.Insert(6)\n",
    "# ll.Insert(7)\n",
    "# ll.Insert(8)\n",
    "# ll.Insert(9)\n",
    "# ll.Insert(10)\n",
    "for i in range(1,11):\n",
    "    ll.Insert(i)\n",
    "print(\"Given Singly linked list is : \")\n",
    "ll.PrintLL()"
   ]
  },
  {
   "cell_type": "code",
   "execution_count": null,
   "metadata": {},
   "outputs": [],
   "source": []
  }
 ],
 "metadata": {
  "interpreter": {
   "hash": "ac59ebe37160ed0dfa835113d9b8498d9f09ceb179beaac4002f036b9467c963"
  },
  "kernelspec": {
   "display_name": "Python 3.9.7 64-bit",
   "language": "python",
   "name": "python3"
  },
  "language_info": {
   "codemirror_mode": {
    "name": "ipython",
    "version": 3
   },
   "file_extension": ".py",
   "mimetype": "text/x-python",
   "name": "python",
   "nbconvert_exporter": "python",
   "pygments_lexer": "ipython3",
   "version": "3.9.7"
  },
  "orig_nbformat": 4
 },
 "nbformat": 4,
 "nbformat_minor": 2
}
