{
 "metadata": {
  "language_info": {
   "codemirror_mode": {
    "name": "ipython",
    "version": 3
   },
   "file_extension": ".py",
   "mimetype": "text/x-python",
   "name": "python",
   "nbconvert_exporter": "python",
   "pygments_lexer": "ipython3",
   "version": "3.9.2-final"
  },
  "orig_nbformat": 2,
  "kernelspec": {
   "name": "python3",
   "display_name": "Python 3.9.2 64-bit",
   "metadata": {
    "interpreter": {
     "hash": "ac59ebe37160ed0dfa835113d9b8498d9f09ceb179beaac4002f036b9467c963"
    }
   }
  }
 },
 "nbformat": 4,
 "nbformat_minor": 2,
 "cells": [
  {
   "source": [
    "#### Q1) Write a python program to create a \"dictionary\" data structure of 5 student details. The \"key\"should be the students' roll number, and the value should be the students' full name. Perform the\n",
    "#### following operations on the created dictionary.\n",
    "#### 1) Append a key-value pair 6, 'Yogesh Patil'.\n",
    "#### 2) Delete the first key-value pair from a dictionary."
   ],
   "cell_type": "markdown",
   "metadata": {}
  },
  {
   "cell_type": "code",
   "execution_count": 1,
   "metadata": {},
   "outputs": [
    {
     "output_type": "stream",
     "name": "stdout",
     "text": [
      "{1: 'neil', 2: 'nitin', 3: 'mukesh', 4: 'ram', 5: 'gopal', 6: 'Yogesh Patil'}\n"
     ]
    }
   ],
   "source": [
    "d = {1:\"neil\",2:\"nitin\",3:\"mukesh\",4:\"ram\",5:\"gopal\"}\n",
    "d[6]=\"Yogesh Patil\" # appending key-value pair\n",
    "print(d)"
   ]
  },
  {
   "cell_type": "code",
   "execution_count": 2,
   "metadata": {},
   "outputs": [
    {
     "output_type": "stream",
     "name": "stdout",
     "text": [
      "{2: 'nitin', 3: 'mukesh', 4: 'ram', 5: 'gopal', 6: 'Yogesh Patil'}\n"
     ]
    }
   ],
   "source": [
    "d.pop(1) # Deleting the first key-value pair from a dictionary\n",
    "print(d)"
   ]
  },
  {
   "source": [
    "#### Q2) Write a python program to calculate sum of values of \"dictionary\" data structure"
   ],
   "cell_type": "markdown",
   "metadata": {}
  },
  {
   "cell_type": "code",
   "execution_count": 3,
   "metadata": {},
   "outputs": [
    {
     "output_type": "stream",
     "name": "stdout",
     "text": [
      "Sum of all values of your dictionary is :  600\n"
     ]
    }
   ],
   "source": [
    "d = {'a': 100, 'b':200, 'c':300}\n",
    "a = d.values() # taking all the \"values\" of dictionary as list\n",
    "print(\"Sum of all values of your dictionary is : \",sum(a))"
   ]
  },
  {
   "cell_type": "code",
   "execution_count": 4,
   "metadata": {},
   "outputs": [
    {
     "output_type": "stream",
     "name": "stdout",
     "text": [
      "Sum of all values of your dictionary is :  88\n"
     ]
    }
   ],
   "source": [
    "d = {'x': 25, 'y':18, 'z':45}\n",
    "a = d.values() # taking all the \"values\" of dictionary as list\n",
    "print(\"Sum of all values of your dictionary is : \",sum(a))"
   ]
  },
  {
   "source": [
    "#### Q3) Write a python program to perform operations on a \"set\" data structure. Create two sets and the inputs for two sets are as followed:\n",
    "#### a = {1, 2, 5, 7, 8, 9}\n",
    "#### b = {2, 3, 4, 7, 8, 10}\n",
    "#### Perform the following operations on the created sets without using the in-built function.\n",
    "#### 1) Union\n",
    "#### 2) Intersection\n",
    "#### 3) Difference\n",
    "#### 4) Symmetric Difference"
   ],
   "cell_type": "markdown",
   "metadata": {}
  },
  {
   "cell_type": "code",
   "execution_count": 5,
   "metadata": {},
   "outputs": [
    {
     "output_type": "stream",
     "name": "stdout",
     "text": [
      "Union --> {1, 2, 3, 4, 5, 7, 8, 9, 10}\nIntersection --> {8, 2, 7}\nDifference --> {10, 3, 4}\nSymmetric Difference --> {1, 3, 4, 5, 9, 10}\n"
     ]
    }
   ],
   "source": [
    "a = {1, 2, 5, 7, 8, 9}\n",
    "b = {2, 3, 4, 7, 8, 10}\n",
    "print(\"Union -->\",a|b)\n",
    "print(\"Intersection -->\",a&b)\n",
    "print(\"Difference -->\",b-a)\n",
    "print(\"Symmetric Difference -->\",a^b)"
   ]
  },
  {
   "cell_type": "code",
   "execution_count": null,
   "metadata": {},
   "outputs": [],
   "source": []
  }
 ]
}