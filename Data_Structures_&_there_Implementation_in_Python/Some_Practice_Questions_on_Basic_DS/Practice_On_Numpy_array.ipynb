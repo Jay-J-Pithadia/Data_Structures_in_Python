{
 "cells": [
  {
   "cell_type": "markdown",
   "metadata": {},
   "source": [
    "## Question 1\n",
    "### Write a python program to reverse array elements. Use an array of integers of size 10 elements. Do reverse operation without using the inbuilt function."
   ]
  },
  {
   "cell_type": "code",
   "execution_count": 2,
   "metadata": {},
   "outputs": [
    {
     "name": "stdout",
     "output_type": "stream",
     "text": [
      "New reversed array is [200, 61, 47, 48, 23, 101, 45, 78, 3, 10]\n"
     ]
    }
   ],
   "source": [
    "l = [10, 3, 78, 45, 101, 23, 48, 47, 61, 200]\n",
    "a = []\n",
    "b = 0\n",
    "for j in l: # for calculating lenght of given array\n",
    "    b = b+1\n",
    "\n",
    "for i in range(b-1, -1, -1):\n",
    "    a = a + [l[i]]\n",
    "\n",
    "print(f\"New reversed array is {a}\")"
   ]
  },
  {
   "cell_type": "markdown",
   "metadata": {},
   "source": [
    "## Question 2 \n",
    "\n",
    "### Write a python program to transpose a matrix of size 3 X 4. Perform transpose operation without using the inbuilt function"
   ]
  },
  {
   "cell_type": "code",
   "execution_count": 8,
   "metadata": {},
   "outputs": [
    {
     "name": "stdout",
     "output_type": "stream",
     "text": [
      "Your matrix :\n",
      "[[ 1  2  3]\n",
      " [ 4  5  6]\n",
      " [ 7  8  9]\n",
      " [10 11 12]]\n",
      "\n",
      "Transpose of ur matrix is : \n",
      "[[ 1  4  7 10]\n",
      " [ 2  5  8 11]\n",
      " [ 3  6  9 12]]\n"
     ]
    }
   ],
   "source": [
    "import numpy as np\n",
    "a = np.array([i for i in range(1,13)],dtype=\"i\").reshape(4,3)\n",
    "l = np.zeros((3,4),dtype=\"i\")\n",
    "for i in range(3):\n",
    "    for j in range(4):\n",
    "        l[i][j]=a[j][i]\n",
    "\n",
    "print(\"Your matrix :\")\n",
    "print(a)\n",
    "print()\n",
    "print(\"Transpose of ur matrix is : \")\n",
    "print(l)"
   ]
  },
  {
   "cell_type": "markdown",
   "metadata": {},
   "source": [
    "## Question 3\n",
    "\n",
    "### Write a python program that takes a 3X3 matrix as input and prints only the matrix's lower triangular part. Perform this task without using the inbuilt function."
   ]
  },
  {
   "cell_type": "code",
   "execution_count": 10,
   "metadata": {},
   "outputs": [
    {
     "name": "stdout",
     "output_type": "stream",
     "text": [
      "Lower Triangular part is :\n",
      "[1]\n",
      "[4, 5]\n",
      "[7, 8, 9]\n"
     ]
    }
   ],
   "source": [
    "import numpy as np\n",
    "a = np.array([i for i in range(1,10)],dtype=\"i\").reshape(3,3)\n",
    "print(\"Lower Triangular part is :\")\n",
    "print([a[0][0]])\n",
    "print([a[1][0],a[1][1]])\n",
    "print([a[2][0],a[2][1],a[2][2]])"
   ]
  }
 ],
 "metadata": {
  "kernelspec": {
   "display_name": "Python 3.9.3 64-bit",
   "name": "python393jvsc74a57bd0ac59ebe37160ed0dfa835113d9b8498d9f09ceb179beaac4002f036b9467c963"
  },
  "language_info": {
   "codemirror_mode": {
    "name": "ipython",
    "version": 3
   },
   "file_extension": ".py",
   "mimetype": "text/x-python",
   "name": "python",
   "nbconvert_exporter": "python",
   "pygments_lexer": "ipython3",
   "version": "3.9.3"
  },
  "metadata": {
   "interpreter": {
    "hash": "ac59ebe37160ed0dfa835113d9b8498d9f09ceb179beaac4002f036b9467c963"
   }
  },
  "orig_nbformat": 2
 },
 "nbformat": 4,
 "nbformat_minor": 2
}
