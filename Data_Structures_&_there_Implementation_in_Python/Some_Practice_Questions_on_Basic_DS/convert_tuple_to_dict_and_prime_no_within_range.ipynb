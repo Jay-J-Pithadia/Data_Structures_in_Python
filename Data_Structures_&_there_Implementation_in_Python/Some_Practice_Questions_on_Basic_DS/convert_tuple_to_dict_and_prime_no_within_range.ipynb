{
 "cells": [
  {
   "cell_type": "markdown",
   "metadata": {},
   "source": [
    "## QUESTION 1\n",
    "\n",
    "WAP to convert tuple into dictionary"
   ]
  },
  {
   "cell_type": "code",
   "execution_count": 1,
   "metadata": {},
   "outputs": [
    {
     "name": "stdout",
     "output_type": "stream",
     "text": [
      "Your required dictionary is :  {1: 2, 3: 4, 5: 6}\n"
     ]
    }
   ],
   "source": [
    "t=eval(input(\"Enter ur tuple : \"))\n",
    "keys=[]\n",
    "values=[]\n",
    "for i in range(0,len(t),2):\n",
    "    keys=keys+[t[i]] \n",
    "for j in range(1,len(t),2):\n",
    "    values=values+[t[j]] \n",
    "d=dict((keys,values) for keys,values in zip(keys,values))\n",
    "print(\"Your required dictionary is : \",d)"
   ]
  },
  {
   "cell_type": "markdown",
   "metadata": {},
   "source": [
    "## QUESTION 2\n",
    "\n",
    "WAP to find the sum upto the no. , enter by user"
   ]
  },
  {
   "cell_type": "code",
   "execution_count": 14,
   "metadata": {},
   "outputs": [
    {
     "name": "stdout",
     "output_type": "stream",
     "text": [
      "Sum upto 12 is : 78\n"
     ]
    }
   ],
   "source": [
    "n=int(input(\"Enter ur no. : \"))\n",
    "s=0\n",
    "for i in range(1,n+1):\n",
    "    s=s+i\n",
    "print(\"Sum upto\",n,\"is :\",s)"
   ]
  },
  {
   "cell_type": "markdown",
   "metadata": {},
   "source": [
    "## QUESTION 3\n",
    "\n",
    "#### Print the following pattern using for loop\n",
    "\n",
    "#### 5 4 3 2 1 \n",
    "#### 4 3 2 1 \n",
    "#### 3 2 1 \n",
    "#### 2 1 \n",
    "#### 1"
   ]
  },
  {
   "cell_type": "code",
   "execution_count": 3,
   "metadata": {},
   "outputs": [
    {
     "name": "stdout",
     "output_type": "stream",
     "text": [
      "5 4 3 2 1\n",
      "4 3 2 1\n",
      "3 2 1\n",
      "2 1\n",
      "1\n"
     ]
    }
   ],
   "source": [
    "# for i in range(5,0,-1): # i loop will be continue from 5 to 1\n",
    "#     for j in range(i,0,-1): # j loop will be continue from i to 1\n",
    "#         print(j, end=\" \")\n",
    "#     print()\n",
    "\n",
    "l = [5,4,3,2,1]\n",
    "\n",
    "for i in range(0,len(l)):\n",
    "        print(*l[i:])"
   ]
  },
  {
   "cell_type": "markdown",
   "metadata": {},
   "source": [
    "### QUESTION 4\n",
    "\n",
    "WAP to reverse the following list by using for loop concept"
   ]
  },
  {
   "cell_type": "code",
   "execution_count": 48,
   "metadata": {},
   "outputs": [
    {
     "name": "stdout",
     "output_type": "stream",
     "text": [
      "Your reversed list is :  [5, 4, 3, 2, 1]\n"
     ]
    }
   ],
   "source": [
    "l=eval(input(\"Enter ur list : \"))\n",
    "a=[]\n",
    "for i in range(len(l)-1,-1,-1):\n",
    "    a=a+[l[i]]\n",
    "print(\"Your reversed list is : \",a)"
   ]
  },
  {
   "cell_type": "markdown",
   "metadata": {},
   "source": [
    "### QUESTION 5\n",
    "\n",
    "WAP to display all the prime nos. within the given range"
   ]
  },
  {
   "cell_type": "code",
   "execution_count": 1,
   "metadata": {},
   "outputs": [
    {
     "name": "stdout",
     "output_type": "stream",
     "text": [
      "2 3 5 7 11 13 17 19 "
     ]
    }
   ],
   "source": [
    "from math import sqrt\n",
    "\n",
    "l=int(input(\"enter ur lower limit : \"))\n",
    "u=int(input(\"enter ur upper limit : \"))\n",
    "\n",
    "def isPrime(n):\n",
    "    # now lets check from 2 to sqrt(n)\n",
    "    # if we found any facto then we can print as not a prime number\n",
    "    # this flag maintains status whether the n is prime or not\n",
    "    prime_flag = 0\n",
    "    if(n > 1):\n",
    "        for i in range(2, int(sqrt(n)) + 1):\n",
    "            if (n % i == 0):\n",
    "                prime_flag = 1\n",
    "                break\n",
    "        if (prime_flag == 0):\n",
    "            return True\n",
    "        else:\n",
    "            return False\n",
    "    else:\n",
    "        return False\n",
    "\n",
    "for i in range(l,u+1):\n",
    "    if isPrime(i):\n",
    "        print(i,end=\" \")"
   ]
  },
  {
   "cell_type": "code",
   "execution_count": null,
   "metadata": {},
   "outputs": [],
   "source": []
  }
 ],
 "metadata": {
  "kernelspec": {
   "display_name": "Python 3",
   "language": "python",
   "name": "python3"
  },
  "language_info": {
   "codemirror_mode": {
    "name": "ipython",
    "version": 3
   },
   "file_extension": ".py",
   "mimetype": "text/x-python",
   "name": "python",
   "nbconvert_exporter": "python",
   "pygments_lexer": "ipython3",
   "version": "3.9.7"
  },
  "orig_nbformat": 2
 },
 "nbformat": 4,
 "nbformat_minor": 2
}
