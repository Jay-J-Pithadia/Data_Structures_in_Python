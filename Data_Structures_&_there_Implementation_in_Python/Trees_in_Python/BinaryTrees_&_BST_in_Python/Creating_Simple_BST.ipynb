{
 "cells": [
  {
   "cell_type": "markdown",
   "metadata": {},
   "source": [
    "# Binary Search Tree (BST)"
   ]
  },
  {
   "cell_type": "code",
   "execution_count": null,
   "metadata": {},
   "outputs": [],
   "source": [
    "#          ___17___\n",
    "#         /        \\\n",
    "#       13          21\n",
    "#      /  \\           \\\n",
    "#    10   15           24\n",
    "#   /  \\    \\         /  \\\n",
    "#  4   11   16      23    27\n",
    "#                         /\n",
    "#                       25\n",
    "#                        \\\n",
    "#                         26"
   ]
  },
  {
   "cell_type": "code",
   "execution_count": 1,
   "metadata": {},
   "outputs": [
    {
     "name": "stdout",
     "output_type": "stream",
     "text": [
      "In-Ordered traversing :\n",
      "4 10 11 13 15 16 17 21 23 24 25 26 27 "
     ]
    }
   ],
   "source": [
    "class Node:\n",
    "    def __init__(self, data):\n",
    "        self.data = data\n",
    "        self.left = None\n",
    "        self.right = None\n",
    "\n",
    "\n",
    "def Insert_value(root, data):\n",
    "    if root.data: # cheking for root node \n",
    "        \n",
    "        # if data is less then rootnode then it will be added in leftside of root node\n",
    "        if data < root.data: \n",
    "            if root.left is None:\n",
    "                root.left = Node(data)\n",
    "            else:\n",
    "                # recursively calling the function in left subtree\n",
    "                Insert_value(root.left, data)\n",
    "\n",
    "        # if data is more then root node then it will be add in rightside of root node\n",
    "        elif data > root.data: \n",
    "            if root.right is None:\n",
    "                root.right = Node(data)\n",
    "            else:\n",
    "                # recursively calling the function in right subtree\n",
    "                Insert_value(root.right, data)\n",
    "    else:\n",
    "        root.data = data\n",
    "\n",
    "# here, i have choose to traverse bst in In_ordered form\n",
    "# because in_ordered will always return nodes in ascending order of its value.\n",
    "def In_Ordered(cur):\n",
    "    if cur != None:\n",
    "        In_Ordered(cur.left)\n",
    "        print(cur.data, end=\" \")\n",
    "        In_Ordered(cur.right)\n",
    "\n",
    "\n",
    "root = Node(0)\n",
    "Insert_value(root, 17)\n",
    "Insert_value(root, 13)\n",
    "Insert_value(root, 21)\n",
    "Insert_value(root, 10)\n",
    "Insert_value(root, 15)\n",
    "Insert_value(root, 4)\n",
    "Insert_value(root, 11)\n",
    "Insert_value(root, 16)\n",
    "Insert_value(root, 24)\n",
    "Insert_value(root, 23)\n",
    "Insert_value(root, 27)\n",
    "Insert_value(root, 25)\n",
    "Insert_value(root, 26)\n",
    "print(\"In-Ordered traversing :\")\n",
    "In_Ordered(root)"
   ]
  },
  {
   "cell_type": "code",
   "execution_count": null,
   "metadata": {},
   "outputs": [],
   "source": []
  }
 ],
 "metadata": {
  "interpreter": {
   "hash": "ac59ebe37160ed0dfa835113d9b8498d9f09ceb179beaac4002f036b9467c963"
  },
  "kernelspec": {
   "display_name": "Python 3.9.7 64-bit",
   "language": "python",
   "name": "python3"
  },
  "language_info": {
   "codemirror_mode": {
    "name": "ipython",
    "version": 3
   },
   "file_extension": ".py",
   "mimetype": "text/x-python",
   "name": "python",
   "nbconvert_exporter": "python",
   "pygments_lexer": "ipython3",
   "version": "3.9.7"
  },
  "orig_nbformat": 4
 },
 "nbformat": 4,
 "nbformat_minor": 2
}
