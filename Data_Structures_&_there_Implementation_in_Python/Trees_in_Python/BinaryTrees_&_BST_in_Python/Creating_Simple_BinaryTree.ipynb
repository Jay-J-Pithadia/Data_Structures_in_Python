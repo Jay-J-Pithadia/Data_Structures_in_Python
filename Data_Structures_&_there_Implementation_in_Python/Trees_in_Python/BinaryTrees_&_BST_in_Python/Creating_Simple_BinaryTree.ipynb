{
 "cells": [
  {
   "cell_type": "markdown",
   "metadata": {},
   "source": [
    "# Binary Tree"
   ]
  },
  {
   "cell_type": "code",
   "execution_count": null,
   "metadata": {},
   "outputs": [],
   "source": [
    "#                A\n",
    "#             /     \\ \n",
    "#            B        C\n",
    "#          /  \\      /  \\\n",
    "#        D     E    F    G\n",
    "#            /  \\       /\n",
    "#           H    I     J "
   ]
  },
  {
   "cell_type": "code",
   "execution_count": 1,
   "metadata": {},
   "outputs": [
    {
     "name": "stdout",
     "output_type": "stream",
     "text": [
      "Pre-Ordered traversing :\n",
      "A B D E H I C F G J  \n",
      " \n",
      "Post-Ordered traversing :\n",
      "D H I E B F J G C A  \n",
      " \n",
      "In-Ordered traversing :\n",
      "D B H E I A F C J G "
     ]
    }
   ],
   "source": [
    "# First of all we have to create node,\n",
    "# each node will have one data value and address of its left & right child.\n",
    "class Node:\n",
    "    def __init__(self, data):\n",
    "        self.data = data\n",
    "        self.left = None\n",
    "        self.right = None\n",
    "\n",
    "# here, we are making function for printing \n",
    "# Pre ordered traversing of Binary tree\n",
    "# i.e.  Root --> Left --> Right\n",
    "def Pre_Ordered(cur):\n",
    "    if cur != None:\n",
    "        print(cur.data, end=\" \")\n",
    "        Pre_Ordered(cur.left)\n",
    "        Pre_Ordered(cur.right)\n",
    "       \n",
    "# here, we are making function for printing \n",
    "# Post ordered traversing of Binary tree\n",
    "# i.e.  Left --> Right --> Root\n",
    "def Post_Ordered(cur):\n",
    "    if cur != None:\n",
    "        Post_Ordered(cur.left)\n",
    "        Post_Ordered(cur.right)\n",
    "        print(cur.data, end=\" \")\n",
    "\n",
    "# here, we are making function for printing \n",
    "# In ordered traversing of Binary tree\n",
    "# i.e. Left --> Root --> Right\n",
    "def In_Ordered(cur):\n",
    "    if cur != None:\n",
    "        In_Ordered(cur.left)\n",
    "        print(cur.data, end=\" \")\n",
    "        In_Ordered(cur.right)\n",
    "\n",
    "\n",
    "a = Node(\"A\")\n",
    "b = Node(\"B\")\n",
    "c = Node(\"C\")\n",
    "d = Node(\"D\")\n",
    "e = Node(\"E\")\n",
    "f = Node(\"F\")\n",
    "g = Node(\"G\")\n",
    "h = Node(\"H\")\n",
    "i = Node(\"I\")\n",
    "j = Node(\"J\")\n",
    "\n",
    "a.left = b\n",
    "a.right = c\n",
    "\n",
    "b.left = d\n",
    "b.right = e\n",
    "\n",
    "c.left = f\n",
    "c.right = g\n",
    "\n",
    "e.left = h\n",
    "e.right = i\n",
    "\n",
    "g.left = j\n",
    "\n",
    "root = a\n",
    "print(\"Pre-Ordered traversing :\")\n",
    "Pre_Ordered(root)\n",
    "print(\" \")\n",
    "print(\" \")\n",
    "print(\"Post-Ordered traversing :\")\n",
    "Post_Ordered(root)\n",
    "print(\" \")\n",
    "print(\" \")\n",
    "print(\"In-Ordered traversing :\")\n",
    "In_Ordered(root)"
   ]
  },
  {
   "cell_type": "code",
   "execution_count": null,
   "metadata": {},
   "outputs": [],
   "source": []
  }
 ],
 "metadata": {
  "interpreter": {
   "hash": "ac59ebe37160ed0dfa835113d9b8498d9f09ceb179beaac4002f036b9467c963"
  },
  "kernelspec": {
   "display_name": "Python 3.9.7 64-bit",
   "language": "python",
   "name": "python3"
  },
  "language_info": {
   "codemirror_mode": {
    "name": "ipython",
    "version": 3
   },
   "file_extension": ".py",
   "mimetype": "text/x-python",
   "name": "python",
   "nbconvert_exporter": "python",
   "pygments_lexer": "ipython3",
   "version": "3.9.7"
  },
  "orig_nbformat": 4
 },
 "nbformat": 4,
 "nbformat_minor": 2
}
