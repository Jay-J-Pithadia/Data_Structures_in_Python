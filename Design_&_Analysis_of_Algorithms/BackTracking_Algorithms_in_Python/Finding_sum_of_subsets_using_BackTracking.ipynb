{
 "cells": [
  {
   "cell_type": "markdown",
   "metadata": {},
   "source": [
    "# Finding Sum of Subsets using Backtracking Strategy"
   ]
  },
  {
   "cell_type": "markdown",
   "metadata": {},
   "source": [
    "### To understand the problem : \n",
    "### https://www.javatpoint.com/subset-sum-problems"
   ]
  },
  {
   "cell_type": "code",
   "execution_count": 1,
   "metadata": {},
   "outputs": [
    {
     "name": "stdout",
     "output_type": "stream",
     "text": [
      "Solutions are:\n",
      "5 3 2 \n",
      "8 2 \n",
      "10 \n"
     ]
    }
   ],
   "source": [
    "# here we have simply made one stack having basic functions like push, pop, empty, etc.\n",
    "class Stack: \n",
    "    def __init__(self): \n",
    "        self.elements = [] \n",
    "    \n",
    "    def push(self, data): \n",
    "        self.elements.append(data) \n",
    "        return data \n",
    "    \n",
    "    def pop(self): \n",
    "        return self.elements.pop() \n",
    "        \n",
    "    def peek(self): \n",
    "        return self.elements[-1] \n",
    "        \n",
    "    def is_empty(self): \n",
    "        return len(self.elements) == 0\n",
    "\n",
    "\n",
    "class sum_of_subset():\n",
    "    solutions = Stack()\n",
    "    hasSolution = False\n",
    "    def solve(self,req_sum,idx):\n",
    "        # base case-1: when required sum is greater then target sum, then simply return none\n",
    "        if req_sum>target_sum:\n",
    "            return\n",
    "\n",
    "        # base case-2: when we get required sum equal to target sum, \n",
    "        # then simply start printing that solution using displaySolution function\n",
    "        if req_sum==target_sum:\n",
    "            sum_of_subset.hasSolution = True\n",
    "            sum_of_subset.displaySolution(self)\n",
    "            return\n",
    "\n",
    "        # otherwise , take each no. from given list \n",
    "        # and add(push) that in our solution stack and recursively check if its equal to target sum\n",
    "        for i in range(idx,n):\n",
    "            sum_of_subset.solutions.push(l[i])\n",
    "            sum_of_subset.solve(self,req_sum+l[i],i+1)\n",
    "            sum_of_subset.solutions.pop()\n",
    "        \n",
    "\n",
    "    def displaySolution(self):\n",
    "        temp = Stack()\n",
    "        while (not sum_of_subset.solutions.is_empty()):\n",
    "            print(sum_of_subset.solutions.peek(),end=\" \")\n",
    "            temp.push(sum_of_subset.solutions.peek())\n",
    "            sum_of_subset.solutions.pop()\n",
    "        print()\n",
    "        while (not temp.is_empty()):      \n",
    "            sum_of_subset.solutions.push(temp.peek()) \n",
    "            temp.pop()\n",
    "        \n",
    "if __name__==\"__main__\":\n",
    "    l = [2, 3, 5, 6, 8, 10]\n",
    "    target_sum = 10\n",
    "    n = len(l)\n",
    "    ss = sum_of_subset()\n",
    "    print(\"Solutions are:\")\n",
    "    ss.solve(0,0)\n",
    "\n",
    "    if ss.hasSolution==False:\n",
    "        print(\"Sorry No solutions available\")\n"
   ]
  }
 ],
 "metadata": {
  "interpreter": {
   "hash": "ac59ebe37160ed0dfa835113d9b8498d9f09ceb179beaac4002f036b9467c963"
  },
  "kernelspec": {
   "display_name": "Python 3.9.7 64-bit",
   "language": "python",
   "name": "python3"
  },
  "language_info": {
   "codemirror_mode": {
    "name": "ipython",
    "version": 3
   },
   "file_extension": ".py",
   "mimetype": "text/x-python",
   "name": "python",
   "nbconvert_exporter": "python",
   "pygments_lexer": "ipython3",
   "version": "3.9.7"
  },
  "orig_nbformat": 4
 },
 "nbformat": 4,
 "nbformat_minor": 2
}
