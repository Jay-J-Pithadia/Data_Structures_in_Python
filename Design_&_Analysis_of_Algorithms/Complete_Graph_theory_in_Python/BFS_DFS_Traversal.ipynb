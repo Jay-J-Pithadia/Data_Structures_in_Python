{
 "cells": [
  {
   "cell_type": "markdown",
   "metadata": {},
   "source": [
    "# BFS Traversal"
   ]
  },
  {
   "cell_type": "markdown",
   "metadata": {},
   "source": [
    "<img src=\"./Graph_bfs.png\" />"
   ]
  },
  {
   "cell_type": "code",
   "execution_count": 1,
   "metadata": {},
   "outputs": [
    {
     "name": "stdout",
     "output_type": "stream",
     "text": [
      "BFS Pattern (starting from '2') of the above graph is: \n",
      "2 4 5 7 8 "
     ]
    }
   ],
   "source": [
    "# adjacency list representaion of the above graph\n",
    "# using python dictionary\n",
    "# {'node from': ['node to']}\n",
    "graph = {\n",
    "    '0': ['1', '2', \"3\"],\n",
    "    '1': ['3'],\n",
    "    '2': [\"4\"],\n",
    "    '3': [\"5\",\"6\"],\n",
    "    '4': [\"5\",\"7\"],\n",
    "    \"5\": [\"2\"],\n",
    "    '6': [\"5\"],\n",
    "    \"7\":[\"5\",\"8\"],\n",
    "    \"8\":[]\n",
    "}\n",
    " \n",
    "def bfs(visit_complete, graph, current_node):\n",
    "    \"\"\"\n",
    "    here we make empty visited list and queue, \n",
    "    which are going to store visited nodes in it\n",
    "    So we are starting with the current node and appending it to both the arrays\n",
    "    then for each node connected to this starting node, \n",
    "    we will marked them as visited node and append all of them in queue.\n",
    "    we will continue this process until our queue becomes empty\n",
    "    \"\"\"\n",
    "    visit_complete.append(current_node)\n",
    "    queue = []\n",
    "    queue.append(current_node)\n",
    " \n",
    "    while queue:\n",
    "        s = queue.pop(0)\n",
    "        print(s,end=\" \")\n",
    " \n",
    "        for neighbour in graph[s]:\n",
    "            if neighbour not in visit_complete:\n",
    "                visit_complete.append(neighbour)\n",
    "                queue.append(neighbour)\n",
    " \n",
    "print(\"BFS Pattern (starting from '2') of the above graph is: \")\n",
    "bfs([], graph, '2')"
   ]
  },
  {
   "cell_type": "markdown",
   "metadata": {},
   "source": [
    "# DFS Traversal"
   ]
  },
  {
   "cell_type": "markdown",
   "metadata": {},
   "source": [
    "<img src=\"./Graph for DFS.jpg\" height=50% width=50%/>"
   ]
  },
  {
   "cell_type": "code",
   "execution_count": 2,
   "metadata": {},
   "outputs": [
    {
     "name": "stdout",
     "output_type": "stream",
     "text": [
      "DFS pattern (starting from 'A') is: \n",
      "A B S C D E H G F\n"
     ]
    }
   ],
   "source": [
    "# adjacency list representaion of the above graph\n",
    "# using python dictionary\n",
    "# {'node from': ['node to']}\n",
    "graph = {\n",
    "    'A' : ['B','S'],\n",
    "    'B' : ['A'],\n",
    "    'C' : ['D','E','F','S'],\n",
    "    'D' : ['C'],\n",
    "    'E' : ['C','H'],\n",
    "    'F' : ['C','G'],\n",
    "    'G' : ['F','S','H'],\n",
    "    'H' : ['E','G'],\n",
    "    'S' : ['A','C','G']\n",
    "}\n",
    " \n",
    "def dfs(graph, node, visited):\n",
    "    \"\"\"\n",
    "    DFS is much more easier then BFS,\n",
    "    here we just need to maintain one visited array,\n",
    "    and we will start with the starting node \n",
    "    then for each node connected to starting node,\n",
    "    we will markes them as visited one by one\n",
    "    and recursively call dfs for that node,\n",
    "    and at last all the nodes which are stored in visited array will be our DFS order\n",
    "    \"\"\"\n",
    "    if node not in visited:\n",
    "        visited.append(node)\n",
    "        for k in graph[node]:\n",
    "            dfs(graph,k, visited)\n",
    "    return visited\n",
    " \n",
    "visited = dfs(graph,'A', [])\n",
    "print(\"DFS pattern (starting from 'A') is: \")\n",
    "print(*visited)"
   ]
  }
 ],
 "metadata": {
  "interpreter": {
   "hash": "ac59ebe37160ed0dfa835113d9b8498d9f09ceb179beaac4002f036b9467c963"
  },
  "kernelspec": {
   "display_name": "Python 3.9.7 64-bit",
   "language": "python",
   "name": "python3"
  },
  "language_info": {
   "codemirror_mode": {
    "name": "ipython",
    "version": 3
   },
   "file_extension": ".py",
   "mimetype": "text/x-python",
   "name": "python",
   "nbconvert_exporter": "python",
   "pygments_lexer": "ipython3",
   "version": "3.9.7"
  },
  "orig_nbformat": 4
 },
 "nbformat": 4,
 "nbformat_minor": 2
}
