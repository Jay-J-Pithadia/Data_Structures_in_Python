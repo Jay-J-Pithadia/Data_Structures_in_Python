{
 "cells": [
  {
   "cell_type": "markdown",
   "metadata": {},
   "source": [
    "# Bellman - Ford Algorithm\n",
    "## (For -ve edge weight and -ve cycles detection)"
   ]
  },
  {
   "cell_type": "markdown",
   "metadata": {},
   "source": [
    "<img src=\"./Bellman_ford.jpeg\" height=50% width=50%/>"
   ]
  },
  {
   "cell_type": "code",
   "execution_count": 2,
   "metadata": {},
   "outputs": [
    {
     "name": "stdout",
     "output_type": "stream",
     "text": [
      "Minimum Distance from node 0 to node 0 is : 0\n",
      "\n",
      "Minimum Distance from node 0 to node 1 is : -1\n",
      "\n",
      "Minimum Distance from node 0 to node 2 is : 2\n",
      "\n",
      "Minimum Distance from node 0 to node 3 is : -2\n",
      "\n",
      "Minimum Distance from node 0 to node 4 is : 1\n",
      "\n"
     ]
    }
   ],
   "source": [
    "graph = {\n",
    "    0: [(1,-1),(2,4)],\n",
    "    1: [(2,3),(3,2),(4,2)],\n",
    "    2: [],\n",
    "    3: [(1,1),(2,5)],\n",
    "    4: [(3,-3)]\n",
    "}\n",
    "\n",
    "def Bellman_Ford(graph,v,s):\n",
    "    dist = [99999 for i in range(v)]\n",
    "    dist[s] = 0\n",
    "    for i in range(v):\n",
    "        if graph[i] != []:\n",
    "            for edge in graph[i]:\n",
    "                if dist[i] + edge[1] < dist[edge[0]]:\n",
    "                    dist[edge[0]] = dist[i] + edge[1]\n",
    "\n",
    "    for i in range(v):\n",
    "        if graph[i] != []:\n",
    "            for edge in graph[i]:\n",
    "                if dist[i] + edge[1] < dist[edge[0]]:\n",
    "                    dist[edge[0]] = -99999\n",
    "    return dist\n",
    "\n",
    "distance = Bellman_Ford(graph,len(graph),0)\n",
    "for i in range(len(distance)):\n",
    "    if distance[i] == 99999:\n",
    "        print(\"Minimum Distance from node 0 to node\",i,\"is : INF(∞)\")\n",
    "    elif distance[i] == -99999:\n",
    "        print(\"Minimum Distance from node 0 to node\",i,\"is : -INF(∞)\")\n",
    "    else:\n",
    "        print(\"Minimum Distance from node 0 to node\",i,\"is :\",distance[i])\n",
    "    print()"
   ]
  }
 ],
 "metadata": {
  "interpreter": {
   "hash": "ac59ebe37160ed0dfa835113d9b8498d9f09ceb179beaac4002f036b9467c963"
  },
  "kernelspec": {
   "display_name": "Python 3.9.7 64-bit",
   "language": "python",
   "name": "python3"
  },
  "language_info": {
   "codemirror_mode": {
    "name": "ipython",
    "version": 3
   },
   "file_extension": ".py",
   "mimetype": "text/x-python",
   "name": "python",
   "nbconvert_exporter": "python",
   "pygments_lexer": "ipython3",
   "version": "3.9.7"
  },
  "orig_nbformat": 4
 },
 "nbformat": 4,
 "nbformat_minor": 2
}
