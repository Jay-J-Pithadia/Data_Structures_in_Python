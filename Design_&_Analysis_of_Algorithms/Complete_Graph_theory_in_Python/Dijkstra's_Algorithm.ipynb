{
 "cells": [
  {
   "cell_type": "markdown",
   "metadata": {},
   "source": [
    "# ***$Dijkstra's$*** Algorithm\n",
    "## **(Lazy Implementation O(E.log(v)) )"
   ]
  },
  {
   "cell_type": "markdown",
   "metadata": {},
   "source": [
    "<img src=\"./Graph.png\" />"
   ]
  },
  {
   "cell_type": "markdown",
   "metadata": {},
   "source": [
    "## Shortest Distance between two nodes:"
   ]
  },
  {
   "cell_type": "code",
   "execution_count": 1,
   "metadata": {},
   "outputs": [
    {
     "name": "stdout",
     "output_type": "stream",
     "text": [
      "Minimum Distance from node 0 to node 0 is : 0\n",
      "Minimum Distance from node 0 to node 1 is : 4\n",
      "Minimum Distance from node 0 to node 2 is : 11\n",
      "Minimum Distance from node 0 to node 3 is : 17\n",
      "Minimum Distance from node 0 to node 4 is : 9\n",
      "Minimum Distance from node 0 to node 5 is : 22\n",
      "Minimum Distance from node 0 to node 6 is : 7\n",
      "Minimum Distance from node 0 to node 7 is : 8\n",
      "Minimum Distance from node 0 to node 8 is : 11\n"
     ]
    }
   ],
   "source": [
    "from queue import PriorityQueue\n",
    "# Adjacency list representation of weighted graph G\n",
    "# node : [(edge to , edge weight)]\n",
    "graph = {\n",
    "    0: [(1,4),(6,7)],\n",
    "    1: [(0,4),(2,9),(6,11),(7,20)],\n",
    "    2: [(1,9),(3,6),(4,2)],\n",
    "    3: [(2,6),(4,10),(5,5)],\n",
    "    4: [(2,2),(3,10),(5,15),(7,1),(8,5)],\n",
    "    5: [(3,5),(4,15),(8,12)],\n",
    "    6: [(0,7),(1,11),(7,1)],\n",
    "    7: [(1,20),(4,1),(6,1),(8,3)],\n",
    "    8: [(4,5),(5,12),(7,3)]\n",
    "}\n",
    "\n",
    "def Dijkstra(graph,n,s):\n",
    "    visited = [False for i in range(n)]\n",
    "    dist = [99999 for i in range(n)]\n",
    "    dist[s]=0\n",
    "    \n",
    "    pq = PriorityQueue()\n",
    "    pq.put((s,0))\n",
    "    \n",
    "    while pq.qsize() != 0:\n",
    "        index,minValue = pq.get()\n",
    "        visited[index]=True\n",
    "        \n",
    "        if graph[index]:\n",
    "            for edge in graph[index]:\n",
    "                newDist = dist[index] + edge[1]\n",
    "                \n",
    "                if newDist < dist[edge[0]]:\n",
    "                    dist[edge[0]] = newDist\n",
    "                    pq.put((edge[0],newDist))\n",
    "    \n",
    "    return dist\n",
    "\n",
    "\n",
    "distance = Dijkstra(graph,len(graph),0)\n",
    "print(\"Minimum Distance from node 0 to node 0 is : 0\")\n",
    "\n",
    "for i in range(1,len(distance)):\n",
    "    print(\"Minimum Distance from node 0 to node\",i,\n",
    "            \"is :\",distance[i])"
   ]
  },
  {
   "cell_type": "markdown",
   "metadata": {},
   "source": [
    "## Finding Shortest Path (Not just distance) \n",
    "## between two nodes Using Dijkstra's Algorithm:"
   ]
  },
  {
   "cell_type": "code",
   "execution_count": 9,
   "metadata": {},
   "outputs": [
    {
     "name": "stdout",
     "output_type": "stream",
     "text": [
      "Shortest Path from node 0 to node 5 is :\n",
      "0 --> 6 --> 7 --> 4 --> 2 --> 3 --> 5\n"
     ]
    }
   ],
   "source": [
    "from queue import PriorityQueue\n",
    "# Adjacency list representation of weighted graph G\n",
    "# node : [(edge to , edge weight)]\n",
    "graph = {\n",
    "    0: [(1,4),(6,7)],\n",
    "    1: [(0,4),(2,9),(6,11),(7,20)],\n",
    "    2: [(1,9),(3,6),(4,2)],\n",
    "    3: [(2,6),(4,10),(5,5)],\n",
    "    4: [(2,2),(3,10),(5,15),(7,1),(8,5)],\n",
    "    5: [(3,5),(4,15),(8,12)],\n",
    "    6: [(0,7),(1,11),(7,1)],\n",
    "    7: [(1,20),(4,1),(6,1),(8,3)],\n",
    "    8: [(4,5),(5,12),(7,3)]\n",
    "}\n",
    "\n",
    "def Dijkstra(graph,n,s):\n",
    "    visited = [False for i in range(n)]\n",
    "    prev = [-1 for i in range(n)]\n",
    "    dist = [99999 for i in range(n)]\n",
    "    dist[s]=0\n",
    "    pq = PriorityQueue()\n",
    "    pq.put((s,0))\n",
    "    \n",
    "    while pq.qsize() != 0:\n",
    "        index,minValue = pq.get()\n",
    "        visited[index] = True\n",
    "\n",
    "        for edge in graph[index]:\n",
    "            newDist = dist[index] + edge[1]\n",
    "            \n",
    "            if newDist < dist[edge[0]]:\n",
    "                prev[edge[0]] = index\n",
    "                dist[edge[0]] = newDist\n",
    "                pq.put((edge[0],newDist))\n",
    "    \n",
    "    return dist,prev\n",
    "\n",
    "def findi_Shortest_Path(graph,n,s,e):\n",
    "    dist,prev = Dijkstra(graph,n,s)\n",
    "    path = []\n",
    "    \n",
    "    if dist[e]==99999:\n",
    "        return path\n",
    "    \n",
    "    i=e\n",
    "    while i!=-1:\n",
    "        path.append(i)\n",
    "        i = prev[i]\n",
    "    # for at in range(e,0,-1):\n",
    "    #     path.append(prev[at])\n",
    "    \n",
    "    path.reverse()\n",
    "    return path\n",
    "\n",
    "starting_node = 0\n",
    "ending_node = 5\n",
    "path = findi_Shortest_Path(graph,len(graph),starting_node,ending_node)\n",
    "print(\"Shortest Path from node\",starting_node,\"to node\",ending_node,\"is :\")\n",
    "print(*path,sep=\" --> \")"
   ]
  }
 ],
 "metadata": {
  "interpreter": {
   "hash": "ac59ebe37160ed0dfa835113d9b8498d9f09ceb179beaac4002f036b9467c963"
  },
  "kernelspec": {
   "display_name": "Python 3.9.7 64-bit",
   "language": "python",
   "name": "python3"
  },
  "language_info": {
   "codemirror_mode": {
    "name": "ipython",
    "version": 3
   },
   "file_extension": ".py",
   "mimetype": "text/x-python",
   "name": "python",
   "nbconvert_exporter": "python",
   "pygments_lexer": "ipython3",
   "version": "3.9.7"
  },
  "orig_nbformat": 4
 },
 "nbformat": 4,
 "nbformat_minor": 2
}
