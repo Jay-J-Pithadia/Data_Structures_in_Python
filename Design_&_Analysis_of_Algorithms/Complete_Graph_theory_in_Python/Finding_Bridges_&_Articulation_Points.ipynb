{
 "cells": [
  {
   "cell_type": "markdown",
   "metadata": {},
   "source": [
    "# ***Bridges And Articulation Points***"
   ]
  },
  {
   "cell_type": "markdown",
   "metadata": {},
   "source": [
    "# Finding Bridges"
   ]
  },
  {
   "cell_type": "markdown",
   "metadata": {},
   "source": [
    "<img src=\"./bridges.jpeg\" height=50% width=50%/>"
   ]
  },
  {
   "cell_type": "code",
   "execution_count": 2,
   "metadata": {},
   "outputs": [
    {
     "name": "stdout",
     "output_type": "stream",
     "text": [
      "Bridges are between node 3 to node 4\n",
      "Bridges are between node 2 to node 3\n",
      "Bridges are between node 2 to node 5\n"
     ]
    }
   ],
   "source": [
    "graph = {\n",
    "    0: [1,2],\n",
    "    1: [0,2],\n",
    "    2: [0,1,3,5],\n",
    "    3: [2,4],\n",
    "    4: [3],\n",
    "    5: [2,6,8],\n",
    "    6:[5,7],\n",
    "    7:[6,8],\n",
    "    8:[5,7]\n",
    "}\n",
    "n = len(graph)\n",
    "\n",
    "ids = [-1 for i in range(n)]\n",
    "low = [-1 for i in range(n)]\n",
    "visited = [False for i in range(n)] \n",
    "\n",
    "def dfs(at,parent,bridges,id):\n",
    "    visited[at] = True\n",
    "    id += 1\n",
    "    low[at] = ids[at] = id\n",
    "\n",
    "    for edge in graph[at]:\n",
    "        if edge==parent:\n",
    "            continue\n",
    "        if not visited[edge]:\n",
    "            dfs(edge,at,bridges,id)\n",
    "            low[at] = min(low[at], low[edge])\n",
    "            if ids[at]<low[edge]:\n",
    "                bridges.append((at,edge))\n",
    "        else:\n",
    "            low[at] = min(low[at],ids[edge])\n",
    "\n",
    "\n",
    "def Find_Bridges():\n",
    "    bridges = []\n",
    "    id = 0\n",
    "    for i in range(n):\n",
    "        if not visited[i]:\n",
    "            dfs(i,-1,bridges,id)\n",
    "    return bridges\n",
    "\n",
    "b = Find_Bridges()\n",
    "for i in b:\n",
    "    print(\"Bridges are between node\",i[0],\"to node\",i[1])\n"
   ]
  },
  {
   "cell_type": "markdown",
   "metadata": {},
   "source": [
    "# Finding Articulation Points"
   ]
  },
  {
   "cell_type": "markdown",
   "metadata": {},
   "source": [
    "<img src=\"./articulation.jpeg\" height=50% width=50%/>"
   ]
  },
  {
   "cell_type": "code",
   "execution_count": 3,
   "metadata": {},
   "outputs": [
    {
     "name": "stdout",
     "output_type": "stream",
     "text": [
      "Articulation point is at node 2\n",
      "Articulation point is at node 3\n",
      "Articulation point is at node 5\n"
     ]
    }
   ],
   "source": [
    "graph = {\n",
    "    0: [1,2],\n",
    "    1: [0,2],\n",
    "    2: [0,1,3,5],\n",
    "    3: [2,4],\n",
    "    4: [3],\n",
    "    5: [2,6,8],\n",
    "    6: [5,7],\n",
    "    7: [6,8],\n",
    "    8: [7,5]\n",
    "}\n",
    "n = len(graph)\n",
    "\n",
    "ids = [-1 for i in range(n)]\n",
    "low = [-1 for i in range(n)]\n",
    "visited = [False for i in range(n)] \n",
    "isArt = [False for i in range(n)]\n",
    "\n",
    "def dfs(root,at,parent,id,outEdgeCount):\n",
    "    if parent==root:\n",
    "        outEdgeCount += 1\n",
    "    visited[at] = True\n",
    "    id += 1\n",
    "    low[at] = ids[at] = id\n",
    "\n",
    "    for edge in graph[at]:\n",
    "        if edge==parent:\n",
    "            continue\n",
    "        if not visited[edge]:\n",
    "            dfs(root,edge,at,id,outEdgeCount)\n",
    "            low[at] = min(low[at], low[edge])\n",
    "            if ids[at]<=low[edge]:\n",
    "                isArt[at] = True\n",
    "        else:\n",
    "            low[at] = min(low[at],ids[edge])\n",
    "\n",
    "\n",
    "def Find_Art_Points():\n",
    "    outEdgeCount = 0\n",
    "    id = 0\n",
    "    for i in range(n):\n",
    "        if not visited[i]:\n",
    "            outEdgeCount = 0\n",
    "            dfs(i,i,-1,id,outEdgeCount)\n",
    "            if outEdgeCount>1:\n",
    "                isArt[i] = True\n",
    "            else:\n",
    "                isArt[i] = False\n",
    "\n",
    "    return isArt\n",
    "\n",
    "Articulations = Find_Art_Points()\n",
    "for i in range(n):\n",
    "    if Articulations[i]==True:\n",
    "        print(\"Articulation point is at node\",i)\n"
   ]
  }
 ],
 "metadata": {
  "interpreter": {
   "hash": "ac59ebe37160ed0dfa835113d9b8498d9f09ceb179beaac4002f036b9467c963"
  },
  "kernelspec": {
   "display_name": "Python 3.9.7 64-bit",
   "language": "python",
   "name": "python3"
  },
  "language_info": {
   "codemirror_mode": {
    "name": "ipython",
    "version": 3
   },
   "file_extension": ".py",
   "mimetype": "text/x-python",
   "name": "python",
   "nbconvert_exporter": "python",
   "pygments_lexer": "ipython3",
   "version": "3.9.7"
  },
  "orig_nbformat": 4
 },
 "nbformat": 4,
 "nbformat_minor": 2
}
