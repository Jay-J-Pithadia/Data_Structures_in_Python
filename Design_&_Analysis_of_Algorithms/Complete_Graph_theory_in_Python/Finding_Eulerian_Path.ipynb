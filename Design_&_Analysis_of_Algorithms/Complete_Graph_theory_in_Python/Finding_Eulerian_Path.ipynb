{
 "cells": [
  {
   "cell_type": "markdown",
   "metadata": {},
   "source": [
    "# Eulerian Path"
   ]
  },
  {
   "cell_type": "markdown",
   "metadata": {},
   "source": [
    "<img src=\"./Euler.jpeg\" height=50% width=50% />"
   ]
  },
  {
   "cell_type": "code",
   "execution_count": 1,
   "metadata": {},
   "outputs": [
    {
     "name": "stdout",
     "output_type": "stream",
     "text": [
      "Given graph has an Eulerian path :\n",
      "4 --> 0 --> 1 --> 3 --> 2 --> 1\n"
     ]
    }
   ],
   "source": [
    "def findpath(graph): \n",
    "    n = len(graph) \n",
    "    numofadj = list() \n",
    "  \n",
    "    # Find out number of edges each vertex has \n",
    "    for i in range(n): \n",
    "        numofadj.append(sum(graph[i])) \n",
    "  \n",
    "    # Find out how many vertex has odd number edges \n",
    "    startpoint = 0\n",
    "    numofodd = 0\n",
    "    for i in range(n-1, -1, -1): \n",
    "        if (numofadj[i] % 2 == 1): \n",
    "            numofodd += 1\n",
    "            startpoint = i \n",
    "  \n",
    "    # If number of vertex with odd number of edges \n",
    "    # is greater than two return \"No Solution\". \n",
    "    if (numofodd > 2): \n",
    "        return []\n",
    "  \n",
    "    # If there is a path find the path \n",
    "    # Initialize empty stack and path \n",
    "    # take the starting current as discussed \n",
    "    stack = list() \n",
    "    path = list() \n",
    "    cur = startpoint \n",
    "  \n",
    "    # Loop will run until there is element in the stack \n",
    "    # or current edge has some neighbour. \n",
    "    while(stack != [] or sum(graph[cur]) != 0): \n",
    "          \n",
    "        # If current node has not any neighbour \n",
    "        # add it to path and pop stack \n",
    "        # set new current to the popped element \n",
    "        if (sum(graph[cur]) == 0): \n",
    "            path.append(cur) \n",
    "            cur = stack.pop(-1) \n",
    "  \n",
    "        # If the current vertex has at least one \n",
    "        # neighbour add the current vertex to stack, \n",
    "        # remove the edge between them and set the \n",
    "        # current to its neighbour. \n",
    "        else: \n",
    "            for i in range(n): \n",
    "                if graph[cur][i] == 1: \n",
    "                    stack.append(cur) \n",
    "                    graph[cur][i] = 0\n",
    "                    graph[i][cur] = 0\n",
    "                    cur = i \n",
    "                    break\n",
    "    path.append(cur)\n",
    "    return path \n",
    "  \n",
    "\n",
    "graph1 = [[0, 1, 0, 0, 1], \n",
    "         [1, 0, 1, 1, 0], \n",
    "         [0, 1, 0, 1, 0], \n",
    "         [0, 1, 1, 0, 0], \n",
    "         [1, 0, 0, 0, 0]] \n",
    "tour = findpath(graph1)\n",
    "if tour==[]:\n",
    "    print(\"This graph doesn't contains an Eulerian path\")\n",
    "else:\n",
    "    print(\"Given graph has an Eulerian path :\")\n",
    "    print(*tour,sep=\" --> \")\n"
   ]
  }
 ],
 "metadata": {
  "interpreter": {
   "hash": "ac59ebe37160ed0dfa835113d9b8498d9f09ceb179beaac4002f036b9467c963"
  },
  "kernelspec": {
   "display_name": "Python 3.9.7 64-bit",
   "language": "python",
   "name": "python3"
  },
  "language_info": {
   "codemirror_mode": {
    "name": "ipython",
    "version": 3
   },
   "file_extension": ".py",
   "mimetype": "text/x-python",
   "name": "python",
   "nbconvert_exporter": "python",
   "pygments_lexer": "ipython3",
   "version": "3.9.7"
  },
  "orig_nbformat": 4
 },
 "nbformat": 4,
 "nbformat_minor": 2
}
