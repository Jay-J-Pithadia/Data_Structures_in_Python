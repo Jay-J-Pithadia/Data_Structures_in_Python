{
 "cells": [
  {
   "cell_type": "markdown",
   "metadata": {},
   "source": [
    "# ***Finding SCCs Using Tarjan's Algorithm***\n",
    "\n",
    "### SCC = Strongly connected components"
   ]
  },
  {
   "cell_type": "markdown",
   "metadata": {},
   "source": [
    "<img src=\"./Tarjan.png\" height=50% width=50%/>"
   ]
  },
  {
   "cell_type": "code",
   "execution_count": 2,
   "metadata": {},
   "outputs": [
    {
     "name": "stdout",
     "output_type": "stream",
     "text": [
      "SCCs in this graph are : \n",
      "5  4  \n",
      "3  2  \n",
      "6  1  0  \n",
      "\n",
      "No. of SCC are : 3\n"
     ]
    }
   ],
   "source": [
    "g = {\n",
    "    0: [1],\n",
    "    1: [2,6,4],\n",
    "    2: [3],\n",
    "    3: [2,4,5],\n",
    "    4: [5],\n",
    "    5: [4],\n",
    "    6: [0,2]\n",
    "}\n",
    "\n",
    "\n",
    "n = len(g)\n",
    "def dfs(at,stack,low,ids,onStack,id,scc):\n",
    "    stack.append(at)\n",
    "    onStack[at] = True\n",
    "    ids[at] = id\n",
    "    low[at] = id\n",
    "    id += 1\n",
    "\n",
    "    # Visiting all neighbours & \n",
    "    # min Low-link on callback\n",
    "    if g[at]:\n",
    "        for edge in g[at]:\n",
    "            if ids[edge] == -1:\n",
    "                scc = dfs(edge,stack,low,ids,onStack,id,scc)\n",
    "                low[at] = min(low[at],low[edge])\n",
    "            elif onStack[edge]==True:\n",
    "                low[at] = min(low[at],ids[edge])\n",
    "\n",
    "    # Using GFG logic\n",
    "    # directly printing SCC if any\n",
    "    node = -1\n",
    "    if ids[at]==low[at]:\n",
    "        while node != at:\n",
    "            node = stack.pop()\n",
    "            print(node,end=\"  \")\n",
    "            onStack[node] = False\n",
    "        scc += 1\n",
    "        print()\n",
    "    return scc\n",
    "\n",
    "def find_SCC():\n",
    "    scc = 0\n",
    "    id = 0\n",
    "    ids = [-1 for i in range(n)]\n",
    "    onStack = [False for i in range(n)]\n",
    "    stack = []\n",
    "    low = [-1 for i in range(n)]\n",
    "    for i in range(n):\n",
    "        if ids[i]==-1:\n",
    "            scc = dfs(i,stack,low,ids,onStack,id,scc)\n",
    "    print()\n",
    "    print(\"No. of SCC are :\",scc)\n",
    "\n",
    "print(\"SCCs in this graph are : \")\n",
    "find_SCC()\n"
   ]
  }
 ],
 "metadata": {
  "interpreter": {
   "hash": "ac59ebe37160ed0dfa835113d9b8498d9f09ceb179beaac4002f036b9467c963"
  },
  "kernelspec": {
   "display_name": "Python 3.9.7 64-bit",
   "language": "python",
   "name": "python3"
  },
  "language_info": {
   "codemirror_mode": {
    "name": "ipython",
    "version": 3
   },
   "file_extension": ".py",
   "mimetype": "text/x-python",
   "name": "python",
   "nbconvert_exporter": "python",
   "pygments_lexer": "ipython3",
   "version": "3.9.7"
  },
  "orig_nbformat": 4
 },
 "nbformat": 4,
 "nbformat_minor": 2
}
