{
 "cells": [
  {
   "cell_type": "markdown",
   "metadata": {},
   "source": [
    "# Finding SSSP using Topological ordering\n",
    "### SSSP = single source shortest path"
   ]
  },
  {
   "cell_type": "markdown",
   "metadata": {},
   "source": [
    "<img src=\"./SSSP.jpeg\" height=20% width=50% />"
   ]
  },
  {
   "cell_type": "code",
   "execution_count": 2,
   "metadata": {},
   "outputs": [
    {
     "name": "stdout",
     "output_type": "stream",
     "text": [
      "Minimum Distance from node 0 to node 0 is : 0\n",
      "Minimum Distance from node 0 to node 1 is : 3\n",
      "Minimum Distance from node 0 to node 2 is : 1\n",
      "Minimum Distance from node 0 to node 3 is : 5\n",
      "Minimum Distance from node 0 to node 4 is : 3\n",
      "Minimum Distance from node 0 to node 5 is : 4\n"
     ]
    }
   ],
   "source": [
    "# Adjacency list representation of weighted graph G\n",
    "# node : [(edge to , edge weight)]\n",
    "graph = {\n",
    "    0: [(1,3),(2,1)],\n",
    "    1: [(2,2),(3,3),(4,6)],\n",
    "    2: [(4,2)],\n",
    "    3: [],\n",
    "    4: [(5,1)],\n",
    "    5: [(3,1)]\n",
    "}\n",
    "\n",
    "def topsort(graph,n): # no. of nodes\n",
    "    v = [False for i in range(n)]\n",
    "    ordering = [-1 for i in range(n)]\n",
    "    i = n-1\n",
    "    for at in range(0,n):\n",
    "        if v[at] == False:\n",
    "            i = dfs(i,at,v,ordering,graph)\n",
    "    return ordering\n",
    "\n",
    "def dfs(i,at,v,ordering,graph):\n",
    "    v[at]=True\n",
    "    edges = graph[at]\n",
    "    for edge in edges:\n",
    "        if v[edge[0]]==False:\n",
    "            i = dfs(i,edge[0],v,ordering,graph)\n",
    "    ordering[i] = at \n",
    "    return i-1\n",
    "\n",
    "def DAG_shortest_Path(graph,start,numNodes):\n",
    "    top_sort = topsort(graph,numNodes)\n",
    "    dist = [-1 for i in range(numNodes)]\n",
    "    dist[start]=0\n",
    "    for i in range(0,numNodes):\n",
    "        nodeIndex = top_sort[i]\n",
    "        if dist[nodeIndex] != -1:\n",
    "            adjacentEdges = graph[nodeIndex]\n",
    "            if adjacentEdges != []:\n",
    "                for edge in adjacentEdges:\n",
    "                    newDist = dist[nodeIndex] + edge[1]\n",
    "                    if dist[edge[0]]==-1:\n",
    "                        dist[edge[0]] = newDist\n",
    "                    else:\n",
    "                        dist[edge[0]] = min(dist[edge[0]],newDist)\n",
    "    return dist\n",
    "\n",
    "distance = DAG_shortest_Path(graph,0,len(graph))\n",
    "print(\"Minimum Distance from node 0 to node 0 is : 0\")\n",
    "for i in range(1,len(distance)):\n",
    "    print(\"Minimum Distance from node 0 to node\",i,\"is :\",distance[i])\n"
   ]
  },
  {
   "cell_type": "code",
   "execution_count": null,
   "metadata": {},
   "outputs": [],
   "source": []
  }
 ],
 "metadata": {
  "interpreter": {
   "hash": "ac59ebe37160ed0dfa835113d9b8498d9f09ceb179beaac4002f036b9467c963"
  },
  "kernelspec": {
   "display_name": "Python 3.9.7 64-bit",
   "language": "python",
   "name": "python3"
  },
  "language_info": {
   "codemirror_mode": {
    "name": "ipython",
    "version": 3
   },
   "file_extension": ".py",
   "mimetype": "text/x-python",
   "name": "python",
   "nbconvert_exporter": "python",
   "pygments_lexer": "ipython3",
   "version": "3.9.7"
  },
  "orig_nbformat": 4
 },
 "nbformat": 4,
 "nbformat_minor": 2
}
