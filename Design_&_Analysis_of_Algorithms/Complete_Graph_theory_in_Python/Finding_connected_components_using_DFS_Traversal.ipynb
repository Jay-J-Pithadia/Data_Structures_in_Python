{
 "cells": [
  {
   "cell_type": "markdown",
   "metadata": {},
   "source": [
    "# Finding Connected Components"
   ]
  },
  {
   "cell_type": "markdown",
   "metadata": {},
   "source": [
    "<img src=\"./Connected_components.jpeg\" width=50%/>"
   ]
  },
  {
   "cell_type": "code",
   "execution_count": 1,
   "metadata": {},
   "outputs": [
    {
     "name": "stdout",
     "output_type": "stream",
     "text": [
      "There are total 5 distinct components in this Graph\n",
      " \n",
      "Distinct connected components are:\n",
      "0 4 8 13 14\n",
      "1 5 16 17\n",
      "2 3 9 10 15\n",
      "6 7 11\n",
      "12\n"
     ]
    }
   ],
   "source": [
    "graph = {\n",
    "    '0': ['4', '8',\"14\",\"13\"],\n",
    "    '1': [\"5\"],\n",
    "    '2': ['9',\"15\"],\n",
    "    '3': [\"9\"],\n",
    "    '4': [\"0\",\"8\"],\n",
    "    \"5\": [\"1\",\"16\",\"17\"],\n",
    "    '6': [\"7\",\"11\"],\n",
    "    \"7\": [\"6\",\"11\"],\n",
    "    \"8\": [\"0\",\"4\",\"14\"],\n",
    "    \"9\": [\"3\",\"2\",\"15\"],\n",
    "    \"10\":[\"15\"],\n",
    "    \"11\":[\"6\",\"7\"],\n",
    "    \"12\":[],\n",
    "    \"13\":[\"0\",\"14\"],\n",
    "    \"14\":[\"0\",\"8\",\"13\"],\n",
    "    \"15\":[\"2\",\"9\",\"10\"],\n",
    "    \"16\":[\"5\"],\n",
    "    \"17\":[\"5\"]\n",
    "}\n",
    "\n",
    "n = 18\n",
    "visited = [False for i in range(n)]\n",
    "components = {}\n",
    "for i in range(n):\n",
    "    components[str(i)]=[]\n",
    "count = 0\n",
    "\n",
    "def findCC(count):\n",
    "    for i in range(0,n):\n",
    "        if not visited[i]:\n",
    "            count += 1\n",
    "            dfs(str(i),count)\n",
    "    return count,components\n",
    "\n",
    "def dfs(at,count):\n",
    "    visited[int(at)]=True\n",
    "    components[at].append(count)\n",
    "    for next in graph[at]:\n",
    "        if not visited[int(next)]:\n",
    "            dfs(next,count)\n",
    "\n",
    "c = findCC(count)[0]\n",
    "com = findCC(count)[1]\n",
    "\n",
    "dist_com = [[] for i in range(c)]\n",
    "for k,v in com.items():\n",
    "    for i in range(1,c+1):\n",
    "        if v[0]==i:\n",
    "            dist_com[i-1].append(k) \n",
    "\n",
    "print(\"There are total\",c,\"distinct components in this Graph\")\n",
    "print(\" \")\n",
    "print(\"Distinct connected components are:\")\n",
    "for i in dist_com:\n",
    "    print(*i)"
   ]
  }
 ],
 "metadata": {
  "interpreter": {
   "hash": "ac59ebe37160ed0dfa835113d9b8498d9f09ceb179beaac4002f036b9467c963"
  },
  "kernelspec": {
   "display_name": "Python 3.9.7 64-bit",
   "language": "python",
   "name": "python3"
  },
  "language_info": {
   "codemirror_mode": {
    "name": "ipython",
    "version": 3
   },
   "file_extension": ".py",
   "mimetype": "text/x-python",
   "name": "python",
   "nbconvert_exporter": "python",
   "pygments_lexer": "ipython3",
   "version": "3.9.7"
  },
  "orig_nbformat": 4
 },
 "nbformat": 4,
 "nbformat_minor": 2
}
