{
 "cells": [
  {
   "cell_type": "markdown",
   "metadata": {},
   "source": [
    "# ***Floyd-Warshall (APSP)***\n",
    "## APSP = All pair shortest path"
   ]
  },
  {
   "cell_type": "markdown",
   "metadata": {},
   "source": [
    "<img src=\"./Floyd.png\" height=25% width=50%/>"
   ]
  },
  {
   "cell_type": "code",
   "execution_count": 1,
   "metadata": {},
   "outputs": [
    {
     "name": "stdout",
     "output_type": "stream",
     "text": [
      "Following matrix shows the shortest distances between every pair of vertices\n",
      "0     5     8     9     \n",
      "INF   0     3     4     \n",
      "INF   INF   0     1     \n",
      "INF   INF   INF   0     \n"
     ]
    }
   ],
   "source": [
    "n = 4\n",
    "\n",
    "graph = [[0, 5, 99999, 10],\n",
    "         [99999, 0, 3, 99999],\n",
    "         [99999, 99999, 0,   1],\n",
    "         [99999, 99999, 99999, 0]\n",
    "         ]\n",
    "\n",
    "def setup(graph):\n",
    "    dp = [[-1 for i in range(n)] for j in range(n)]\n",
    "    next = [[-1 for i in range(n)] for j in range(n)]\n",
    "\n",
    "    for i in range(n):\n",
    "        for j in range(n):\n",
    "            dp[i][j] = graph[i][j]\n",
    "            if graph[i][j] != 99999:\n",
    "                next[i][j] = j\n",
    "    return dp,next\n",
    "\n",
    "def propagate_negative_cycle(dp,next,n):\n",
    "    for k in range(n):\n",
    "        for i in range(n):\n",
    "            for j in range(n):\n",
    "                if dp[i][k] + dp[k][j] < dp[i][j]:\n",
    "                    dp[i][j] = -99999\n",
    "                    next[i][j] = -1\n",
    "    return dp,next\n",
    "\n",
    "\n",
    "def floyd_Warshall(graph):\n",
    "    dp,next = setup(graph)\n",
    "    \n",
    "    for k in range(n):\n",
    "        for i in range(n):\n",
    "            for j in range(n):\n",
    "                if dp[i][k] + dp[k][j] < dp[i][j]:\n",
    "                    dp[i][j] = dp[i][k] + dp[k][j]\n",
    "                    next[i][j] = next[i][k]\n",
    "    \n",
    "    dp,next = propagate_negative_cycle(dp,next,n)\n",
    "\n",
    "    return dp\n",
    "\n",
    "def printSolution(dist):\n",
    "    print(\"Following matrix shows the shortest distances between every pair of vertices\")\n",
    "    for i in range(n):\n",
    "        for j in range(n):\n",
    "            if(dist[i][j] == 99999):\n",
    "                print(\"INF\",end=\"   \")\n",
    "            else:\n",
    "                print(dist[i][j],end=\"     \")\n",
    "            if j == n-1:\n",
    "                print(\"\")\n",
    "\n",
    "dist = floyd_Warshall(graph)\n",
    "printSolution(dist)"
   ]
  }
 ],
 "metadata": {
  "interpreter": {
   "hash": "ac59ebe37160ed0dfa835113d9b8498d9f09ceb179beaac4002f036b9467c963"
  },
  "kernelspec": {
   "display_name": "Python 3.9.7 64-bit",
   "language": "python",
   "name": "python3"
  },
  "language_info": {
   "codemirror_mode": {
    "name": "ipython",
    "version": 3
   },
   "file_extension": ".py",
   "mimetype": "text/x-python",
   "name": "python",
   "nbconvert_exporter": "python",
   "pygments_lexer": "ipython3",
   "version": "3.9.7"
  },
  "orig_nbformat": 4
 },
 "nbformat": 4,
 "nbformat_minor": 2
}
