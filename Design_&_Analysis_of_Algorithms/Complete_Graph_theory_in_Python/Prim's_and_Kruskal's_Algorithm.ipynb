{
 "cells": [
  {
   "cell_type": "markdown",
   "metadata": {},
   "source": [
    "# $Prim's$ Algorithm"
   ]
  },
  {
   "cell_type": "markdown",
   "metadata": {},
   "source": [
    "<img src=\"./Prim Algorithm.jpg\" />"
   ]
  },
  {
   "cell_type": "code",
   "execution_count": 5,
   "metadata": {},
   "outputs": [
    {
     "name": "stdout",
     "output_type": "stream",
     "text": [
      " \n",
      "Edge  :  Weight\n",
      "0 - 3 :   3\n",
      "3 - 2 :   1\n",
      "2 - 1 :   2\n",
      "0 - 4 :   5\n",
      " \n",
      "Cost of this MST is:  11\n",
      " \n"
     ]
    }
   ],
   "source": [
    "# initialize one long int number as infinite\n",
    "INF = 9999999\n",
    "\n",
    "# number of vertices in graph\n",
    "N = 8\n",
    "\n",
    "# Creating a graph G having edge weight\n",
    "G = [[0, 7, 0, 0, 0, 10, 0, 15],\n",
    "     [7, 0, 12, 5, 0, 0, 9, 0],\n",
    "     [0, 2, 0, 1, 0],\n",
    "     [3, 0, 1, 0, 0],\n",
    "     [5, 0, 0, 0, 0]]\n",
    "\n",
    "# initially no node is selected so, initialize all with 0\n",
    "selected_node = [0 for i in range(N)]\n",
    "\n",
    "no_edge = 0\n",
    "\n",
    "selected_node[0] = True\n",
    "\n",
    "min_cost = 0\n",
    "\n",
    "# printing for edge and weight\n",
    "print(\" \")\n",
    "print(\"Edge  :  Weight\")\n",
    "\n",
    "while (no_edge < N - 1):\n",
    "    # initialize min as inf.\n",
    "    minimum = INF\n",
    "    # define two variables for showing egde connection\n",
    "    a = 0\n",
    "    b = 0\n",
    "    for row in range(N):\n",
    "        if selected_node[row]:\n",
    "            for col in range(N):\n",
    "                # if not in selected node and there is an edge present\n",
    "                if ((not selected_node[col]) and G[row][col]):  \n",
    "                    # then check if its min or not\n",
    "                    if minimum > G[row][col]:\n",
    "                        # make that edge weight min\n",
    "                        # and update a & b with that row and col\n",
    "                        minimum = G[row][col]\n",
    "                        a = row\n",
    "                        b = col\n",
    "    \n",
    "    # print both the connected edges having min weight\n",
    "    min_cost += G[a][b]\n",
    "    print(str(a) + \" - \" + str(b) + \" :   \" + str(G[a][b]))\n",
    "    selected_node[b] = True\n",
    "    no_edge += 1\n",
    "print(\" \")\n",
    "print(\"Cost of this MST is: \",min_cost)\n",
    "print(\" \")"
   ]
  },
  {
   "cell_type": "markdown",
   "metadata": {},
   "source": [
    "# $Kruskal's$ Algorithm"
   ]
  },
  {
   "cell_type": "markdown",
   "metadata": {},
   "source": [
    "<img src=\"./kruskal Algo.jpg\" />"
   ]
  },
  {
   "cell_type": "code",
   "execution_count": 11,
   "metadata": {},
   "outputs": [
    {
     "name": "stdout",
     "output_type": "stream",
     "text": [
      "Edge  :  Weight\n",
      "1 - 2 :   2\n",
      "2 - 5 :   2\n",
      "2 - 3 :   3\n",
      "3 - 4 :   3\n",
      "0 - 1 :   4\n",
      " \n",
      "Cost of this MST is:  14\n"
     ]
    }
   ],
   "source": [
    "class Graph:\n",
    "    def __init__(self, vertices):\n",
    "        self.V = vertices\n",
    "        self.graph = []\n",
    "\n",
    "    def add_edge(self, u, v, w):\n",
    "        self.graph.append([u, v, w])\n",
    "\n",
    "    # find parent\n",
    "    def find(self, parent, i):\n",
    "        if parent[i] == i:\n",
    "            return i\n",
    "        return self.find(parent, parent[i])\n",
    "\n",
    "    # checking whether adding this edge will create a cycle or not\n",
    "    def apply_union(self, parent, rank, x, y):\n",
    "        xroot = self.find(parent, x)\n",
    "        yroot = self.find(parent, y)\n",
    "        if rank[xroot] < rank[yroot]:\n",
    "            parent[xroot] = yroot\n",
    "        elif rank[xroot] > rank[yroot]:\n",
    "            parent[yroot] = xroot\n",
    "        else:\n",
    "            parent[yroot] = xroot\n",
    "            rank[xroot] += 1\n",
    "\n",
    "    #  Applying Kruskal algorithm\n",
    "    def kruskal_algo(self):\n",
    "        result = []\n",
    "        i, e = 0, 0\n",
    "        self.graph = sorted(self.graph, key=lambda item: item[2])\n",
    "        parent = []\n",
    "        rank = []\n",
    "        for node in range(self.V):\n",
    "            parent.append(node)\n",
    "            rank.append(0)\n",
    "        while e < self.V - 1:\n",
    "            u, v, w = self.graph[i]\n",
    "            i = i + 1\n",
    "            x = self.find(parent, u)\n",
    "            y = self.find(parent, v)\n",
    "            if x != y:\n",
    "                e = e + 1\n",
    "                result.append([u, v, w])\n",
    "                self.apply_union(parent, rank, x, y)\n",
    "        \n",
    "        min_cost = 0\n",
    "        print(\"Edge  :  Weight\")\n",
    "        for u, v, weight in result:\n",
    "            min_cost += weight\n",
    "            print(f\"{u} - {v} :   {weight}\")\n",
    "        print(\" \")\n",
    "        print(\"Cost of this MST is: \",min_cost)\n",
    "\n",
    "g = Graph(6)\n",
    "g.add_edge(0, 1, 4)\n",
    "g.add_edge(0, 2, 4)\n",
    "g.add_edge(1, 2, 2)\n",
    "g.add_edge(1, 0, 4)\n",
    "g.add_edge(2, 0, 4)\n",
    "g.add_edge(2, 1, 2)\n",
    "g.add_edge(2, 3, 3)\n",
    "g.add_edge(2, 5, 2)\n",
    "g.add_edge(2, 4, 4)\n",
    "g.add_edge(3, 2, 3)\n",
    "g.add_edge(3, 4, 3)\n",
    "g.add_edge(4, 2, 4)\n",
    "g.add_edge(4, 3, 3)\n",
    "g.add_edge(4, 5, 3)\n",
    "g.add_edge(5, 2, 2)\n",
    "g.add_edge(5, 4, 3)\n",
    "g.kruskal_algo()"
   ]
  },
  {
   "cell_type": "code",
   "execution_count": null,
   "metadata": {},
   "outputs": [],
   "source": []
  }
 ],
 "metadata": {
  "interpreter": {
   "hash": "ac59ebe37160ed0dfa835113d9b8498d9f09ceb179beaac4002f036b9467c963"
  },
  "kernelspec": {
   "display_name": "Python 3.9.7 64-bit",
   "language": "python",
   "name": "python3"
  },
  "language_info": {
   "codemirror_mode": {
    "name": "ipython",
    "version": 3
   },
   "file_extension": ".py",
   "mimetype": "text/x-python",
   "name": "python",
   "nbconvert_exporter": "python",
   "pygments_lexer": "ipython3",
   "version": "3.9.7"
  },
  "orig_nbformat": 4
 },
 "nbformat": 4,
 "nbformat_minor": 2
}
