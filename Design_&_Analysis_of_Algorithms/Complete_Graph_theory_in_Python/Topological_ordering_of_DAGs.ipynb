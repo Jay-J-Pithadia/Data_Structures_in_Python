{
 "cells": [
  {
   "cell_type": "markdown",
   "metadata": {},
   "source": [
    "# Topological ordering of DAGs\n",
    "### DAG = Directed Acyclic Graph"
   ]
  },
  {
   "cell_type": "markdown",
   "metadata": {},
   "source": [
    "<img src=\"./Top_sort.png\"/>"
   ]
  },
  {
   "cell_type": "code",
   "execution_count": 3,
   "metadata": {},
   "outputs": [
    {
     "name": "stdout",
     "output_type": "stream",
     "text": [
      "Topological ordering of this graph is: \n",
      "0 1 3 2 4\n"
     ]
    }
   ],
   "source": [
    "# From above graph we are considering \n",
    "# as A=0, B=1, C=2, D=3 and E=4\n",
    "graph = {\n",
    "    0: [1,2,3],\n",
    "    1: [2,3],\n",
    "    2: [4],\n",
    "    3: [4],\n",
    "    4: []\n",
    "}\n",
    "\n",
    "\n",
    "def topsort(graph):\n",
    "    n = len(graph) # no. of nodes\n",
    "    v = [False for i in range(n)]\n",
    "    ordering = [-1 for i in range(n)]\n",
    "    i = n-1\n",
    "    for at in range(0,n):\n",
    "        if v[at] == False:\n",
    "            i = dfs(i,at,v,ordering,graph)\n",
    "    return ordering\n",
    "\n",
    "def dfs(i,at,v,ordering,graph):\n",
    "    v[at]=True\n",
    "    edges = graph[at]\n",
    "    for edge in edges:\n",
    "        if v[edge]==False:\n",
    "            i = dfs(i,edge,v,ordering,graph)\n",
    "    ordering[i] = at \n",
    "    return i-1\n",
    "\n",
    "a = topsort(graph)\n",
    "print(\"Topological ordering of this graph is: \")\n",
    "print(*a)"
   ]
  },
  {
   "cell_type": "code",
   "execution_count": null,
   "metadata": {},
   "outputs": [],
   "source": []
  }
 ],
 "metadata": {
  "interpreter": {
   "hash": "ac59ebe37160ed0dfa835113d9b8498d9f09ceb179beaac4002f036b9467c963"
  },
  "kernelspec": {
   "display_name": "Python 3.9.7 64-bit",
   "language": "python",
   "name": "python3"
  },
  "language_info": {
   "codemirror_mode": {
    "name": "ipython",
    "version": 3
   },
   "file_extension": ".py",
   "mimetype": "text/x-python",
   "name": "python",
   "nbconvert_exporter": "python",
   "pygments_lexer": "ipython3",
   "version": "3.9.7"
  },
  "orig_nbformat": 4
 },
 "nbformat": 4,
 "nbformat_minor": 2
}
