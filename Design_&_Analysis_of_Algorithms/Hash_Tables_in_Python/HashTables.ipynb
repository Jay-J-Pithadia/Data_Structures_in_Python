{
 "cells": [
  {
   "cell_type": "markdown",
   "metadata": {},
   "source": [
    "# Hashing with $Chaining$"
   ]
  },
  {
   "cell_type": "markdown",
   "metadata": {},
   "source": [
    "### Here, i have used python magic functions like getitem, setitem, etc. \n",
    "### to know more about them follow this documentation : \n",
    "### https://docs.python.org/3/reference/datamodel.html#class-getitem-versus-getitem"
   ]
  },
  {
   "cell_type": "code",
   "execution_count": 3,
   "metadata": {},
   "outputs": [
    {
     "name": "stdout",
     "output_type": "stream",
     "text": [
      "9\n",
      "9\n"
     ]
    },
    {
     "data": {
      "text/plain": [
       "[[],\n",
       " [],\n",
       " [],\n",
       " [],\n",
       " [('jan 1', 27), ('jan 12', 12)],\n",
       " [('jan 2', 30)],\n",
       " [('jan 14', 24)],\n",
       " [],\n",
       " [],\n",
       " [('jan 6', 23), ('jan 17', 28), ('jan 26', 123)]]"
      ]
     },
     "execution_count": 3,
     "metadata": {},
     "output_type": "execute_result"
    }
   ],
   "source": [
    "class hashTable():\n",
    "    def __init__(self):\n",
    "        self.arr = [[] for i in range(10)]\n",
    "    \"\"\"\n",
    "    here we have implimented hash function as h%10, but in real time scenario,\n",
    "    we have many complex methods available to get hash value of a particular key,\n",
    "    and using that, we have to handle real time problems.\n",
    "    \"\"\"\n",
    "    def get_hash(self,key):\n",
    "        h = 0\n",
    "        for char in key:\n",
    "            h += ord(char)\n",
    "        return h%10\n",
    "\n",
    "    def __getitem__(self, key):\n",
    "        arr_index = self.get_hash(key)\n",
    "        found = False\n",
    "        for kv in self.arr[arr_index]:\n",
    "            if kv[0] == key:\n",
    "                found = True\n",
    "                return kv[1]\n",
    "\n",
    "        if not found:\n",
    "            print(f\"Element is not present with key {key}\")\n",
    "\n",
    "    # collision handling with chaining  \n",
    "    \"\"\"\n",
    "    So here in hashing with chaining, what we do is, \n",
    "    we first get the hash value from the function (get_hash)\n",
    "    then we will check if, at that particular index, some element is already present or not\n",
    "    if some element is present, then we will simply chain this element with the other element (which was present already in array) at same index value,\n",
    "    now obviously it will have some advantages and limitaions but this method will surely works fast then simple array indexing, \n",
    "    (i.e. with the help of hashing we can search in O(1) time, yes!!! constant time searching.)\n",
    "    \"\"\"\n",
    "    def __setitem__(self,key,value):      \n",
    "        h = self.get_hash(key)\n",
    "        found = False\n",
    "        for index,element in enumerate(self.arr[h]):\n",
    "            if len(element)>=1 and element[0]==key:\n",
    "                self.arr[h][index]= (key,value)\n",
    "                found = True\n",
    "                break\n",
    "        if not found:\n",
    "            self.arr[h].append((key,value))\n",
    "\n",
    "    def __delitem__(self,key):\n",
    "        h = self.get_hash(key)\n",
    "        found = False\n",
    "        for element in self.arr[h]:\n",
    "            if len(element)>=1 and element[0]==key:\n",
    "                self.arr[h].remove(element)\n",
    "                found = True\n",
    "                break\n",
    "        if not found:\n",
    "            print(f\"Element is not present with key {key}\")\n",
    "\n",
    "t = hashTable()\n",
    "t[\"jan 1\"] = 27\n",
    "t[\"jan 2\"] = 30\n",
    "t[\"jan 6\"] = 23\n",
    "t[\"jan 17\"] = 28\n",
    "t[\"jan 26\"] = 123\n",
    "t[\"jan 12\"] = 12\n",
    "t[\"jan 14\"] = 24\n",
    "# so here collision will occur as hash value for jan 17 and jan 6 will be 9\n",
    "# so here we required collision handling either with chaining or linear probing\n",
    "print(t.get_hash(\"jan 17\"))\n",
    "print(t.get_hash(\"jan 6\"))\n",
    "\n",
    "t.arr"
   ]
  },
  {
   "cell_type": "markdown",
   "metadata": {},
   "source": [
    "# Hashing with $Linear$ $Probing$"
   ]
  },
  {
   "cell_type": "code",
   "execution_count": 3,
   "metadata": {},
   "outputs": [
    {
     "data": {
      "text/plain": [
       "[[('jan 17', 28)],\n",
       " [('jan 26', 123)],\n",
       " [('jan 12', 12)],\n",
       " [],\n",
       " [('jan 1', 27)],\n",
       " [('jan 2', 30)],\n",
       " [('jan 14', 24)],\n",
       " [],\n",
       " [],\n",
       " [('jan 6', 23)]]"
      ]
     },
     "execution_count": 3,
     "metadata": {},
     "output_type": "execute_result"
    }
   ],
   "source": [
    "class hashTable():\n",
    "    def __init__(self):\n",
    "        self.arr = [[] for i in range(10)]\n",
    "    \n",
    "    def get_hash(self,key):\n",
    "        h = 0\n",
    "        for char in key:\n",
    "            h += ord(char)\n",
    "        return h%10\n",
    "\n",
    "    def __getitem__(self, key):\n",
    "        found = False\n",
    "        for element in self.arr:\n",
    "            if (element and (element[0][0]==key)):\n",
    "                found = True\n",
    "                return element[0][1]\n",
    "\n",
    "        if not found:\n",
    "            print(f\"Element is not present with key {key}\")\n",
    "\n",
    "    # collision handling with linear probing\n",
    "    \"\"\"\n",
    "    So, here in lenear probing, we don't chain two or more elements together if they have same hash value,\n",
    "    insted, we will search for an empty index in our array (starting from 0th index), and when we find that empty index,\n",
    "    we will just append our element at that index value.\n",
    "    \"\"\"\n",
    "    def __setitem__(self,key,value):\n",
    "        h = self.get_hash(key)\n",
    "        found = False\n",
    "        if self.arr[h]:\n",
    "            for element in range(0,len(self.arr)):\n",
    "                if self.arr[element]==[]:\n",
    "                    self.arr[element].append((key,value))\n",
    "                    found = True\n",
    "                    break\n",
    "        if not found:\n",
    "            self.arr[h].append((key,value))\n",
    "\n",
    "    def __delitem__(self,key):\n",
    "        found = False\n",
    "        for element in range(len(self.arr)):\n",
    "            if ((self.arr[element]) and (self.arr[element][0][0]==key)):\n",
    "                self.arr[element]=[]\n",
    "                found = True\n",
    "                break\n",
    "        if not found:\n",
    "            print(f\"Element is not present with key {key}\")\n",
    "\n",
    "t = hashTable()\n",
    "t[\"jan 1\"] = 27\n",
    "t[\"jan 2\"] = 30\n",
    "t[\"jan 6\"] = 23\n",
    "t[\"jan 17\"] = 28\n",
    "t[\"jan 26\"] = 123\n",
    "t[\"jan 12\"] = 12\n",
    "t[\"jan 14\"] = 24\n",
    "t.arr"
   ]
  },
  {
   "cell_type": "code",
   "execution_count": null,
   "metadata": {},
   "outputs": [],
   "source": []
  }
 ],
 "metadata": {
  "interpreter": {
   "hash": "ac59ebe37160ed0dfa835113d9b8498d9f09ceb179beaac4002f036b9467c963"
  },
  "kernelspec": {
   "display_name": "Python 3.9.7 64-bit",
   "name": "python3"
  },
  "language_info": {
   "codemirror_mode": {
    "name": "ipython",
    "version": 3
   },
   "file_extension": ".py",
   "mimetype": "text/x-python",
   "name": "python",
   "nbconvert_exporter": "python",
   "pygments_lexer": "ipython3",
   "version": "3.9.7"
  },
  "orig_nbformat": 4
 },
 "nbformat": 4,
 "nbformat_minor": 2
}
