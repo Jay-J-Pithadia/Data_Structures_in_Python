{
 "cells": [
  {
   "cell_type": "markdown",
   "metadata": {},
   "source": [
    "# Implement a classic 0/1 knapsack using Dynamic Programming using memoization and tabular method.\n",
    "\n",
    "### To understand the problem : \n",
    "### https://www.javatpoint.com/0-1-knapsack-problem"
   ]
  },
  {
   "cell_type": "markdown",
   "metadata": {},
   "source": [
    "## 1) Memoization (Optimized Recursion)"
   ]
  },
  {
   "cell_type": "code",
   "execution_count": 1,
   "metadata": {},
   "outputs": [
    {
     "name": "stdout",
     "output_type": "stream",
     "text": [
      "Maximum value that can be filed in knapsack is: 13\n"
     ]
    }
   ],
   "source": [
    "def knapsack(wt, val, W, n): \n",
    "    # base case:\n",
    "    if n == 0 or W == 0:\n",
    "        return 0\n",
    "    if dp[n][W] != -1:\n",
    "        return dp[n][W]\n",
    " \n",
    "    # choices:\n",
    "    # if last item's weight is less then knapsack's weight\n",
    "    if wt[n-1] <= W:\n",
    "        # then we can decide to choose that item or not \n",
    "        # by find max of both of them\n",
    "        dp[n][W] = max(val[n-1] + knapsack(wt, val, W-wt[n-1], n-1),knapsack(wt, val, W, n-1))\n",
    "        return dp[n][W]\n",
    "    \n",
    "    # else if last item's weight is more then knapsack's weight\n",
    "    elif wt[n-1] > W:\n",
    "        # then we have to exclude that item \n",
    "        # and move on to next\n",
    "        dp[n][W] = knapsack(wt, val, W, n-1)\n",
    "        return dp[n][W]\n",
    "\n",
    "val = [8,4,0,5,3]\n",
    "wt = [1,2,3,2,2]\n",
    "W = 4\n",
    "n = len(val) \n",
    "dp = [[-1 for i in range(W + 1)] for j in range(n + 1)]\n",
    "print(f\"Maximum value that can be filed in knapsack is: {knapsack(wt, val, W, n)}\")"
   ]
  },
  {
   "cell_type": "markdown",
   "metadata": {},
   "source": [
    "## 2) Tabular Approach"
   ]
  },
  {
   "cell_type": "code",
   "execution_count": 2,
   "metadata": {},
   "outputs": [
    {
     "name": "stdout",
     "output_type": "stream",
     "text": [
      "Maximum value that can be filed in knapsack is: 9\n"
     ]
    }
   ],
   "source": [
    "def knapSack(W, wt, val, n):\n",
    "    dp = [[-1 for x in range(W + 1)] for x in range(n + 1)]\n",
    " \n",
    "    for i in range(n + 1):\n",
    "        for w in range(W + 1):\n",
    "            # base case:\n",
    "            if i == 0 or w == 0:\n",
    "                dp[i][w] = 0\n",
    "            \n",
    "            # choices:\n",
    "            # if last item's weight is less then knapsack's weight\n",
    "            elif wt[i-1] <= w:\n",
    "                # then we can decide to choose that item or not \n",
    "                # by find max of both of them\n",
    "                dp[i][w] = max(val[i-1]+ dp[i-1][w-wt[i-1]], dp[i-1][w])\n",
    "            \n",
    "            # else last item's weight is more then knapsack's weight\n",
    "            else:\n",
    "                # then we have to exclude that item \n",
    "                # and move on to next\n",
    "                dp[i][w] = dp[i-1][w]\n",
    " \n",
    "    return dp[n][W]\n",
    " \n",
    " \n",
    "val = [1,4,5,7]\n",
    "wt = [1,3,4,5]\n",
    "W = 7 # knapsack's weight\n",
    "n = len(val)\n",
    "print(f\"Maximum value that can be filed in knapsack is: {knapSack(W, wt, val,n)}\")"
   ]
  }
 ],
 "metadata": {
  "interpreter": {
   "hash": "ac59ebe37160ed0dfa835113d9b8498d9f09ceb179beaac4002f036b9467c963"
  },
  "kernelspec": {
   "display_name": "Python 3.9.7 64-bit",
   "language": "python",
   "name": "python3"
  },
  "language_info": {
   "codemirror_mode": {
    "name": "ipython",
    "version": 3
   },
   "file_extension": ".py",
   "mimetype": "text/x-python",
   "name": "python",
   "nbconvert_exporter": "python",
   "pygments_lexer": "ipython3",
   "version": "3.9.7"
  },
  "orig_nbformat": 4
 },
 "nbformat": 4,
 "nbformat_minor": 2
}
