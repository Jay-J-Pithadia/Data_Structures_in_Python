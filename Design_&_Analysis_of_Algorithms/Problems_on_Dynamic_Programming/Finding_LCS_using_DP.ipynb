{
 "cells": [
  {
   "cell_type": "markdown",
   "metadata": {},
   "source": [
    "# Find the Length of longest common sub-sequence (LCS) using Dynamic Programming (memorization and tabular method).\n",
    "\n",
    "### To understand problem, follow the link: \n",
    "### https://www.javatpoint.com/longest-common-subsequence"
   ]
  },
  {
   "cell_type": "markdown",
   "metadata": {},
   "source": [
    "## 1) Using Memoization (Optimizing recursion)"
   ]
  },
  {
   "cell_type": "code",
   "execution_count": 1,
   "metadata": {},
   "outputs": [
    {
     "name": "stdout",
     "output_type": "stream",
     "text": [
      "Length of LCS of abcdefghij & cdgi is: 4\n"
     ]
    }
   ],
   "source": [
    "def lcs(X, Y, m, n, dp):\n",
    "     \n",
    "    # base case\n",
    "    if (m == 0 or n == 0):\n",
    "        return 0\n",
    "    \n",
    "    # if solution is already computed \n",
    "    # then simply return the solution\n",
    "    if (dp[m - 1][n - 1] != -1):\n",
    "        return dp[m - 1][n - 1]\n",
    " \n",
    "    # Choices :\n",
    "    # if last element of both the str are equal\n",
    "    if (X[m - 1] == Y[n - 1]):\n",
    "        # store it in dp array and increase the count by 1\n",
    "        dp[m - 1][n - 1] = 1 + lcs(X, Y, m - 1, n - 1, dp)\n",
    "        \n",
    "        # and return that solution\n",
    "        return dp[m - 1][n - 1]\n",
    "    \n",
    "    # else last element of both the str are not equal\n",
    "    else :\n",
    "        # then find the max of both the recursive call\n",
    "        # and store it in dp array\n",
    "        dp[m - 1][n - 1] = max(lcs(X, Y, m, n - 1, dp),lcs(X, Y, m - 1, n, dp))\n",
    " \n",
    "        # and return that solution       \n",
    "        return dp[m - 1][n - 1]\n",
    " \n",
    "X = \"abcdefghij\"\n",
    "Y = \"cdgi\"\n",
    "m = len(X)\n",
    "n = len(Y)\n",
    " \n",
    "dp = [[-1 for i in range(n+1)] for j in range(m+1)]\n",
    " \n",
    "print(f\"Length of LCS of {X} & {Y} is: {lcs(X, Y, m, n, dp)}\")"
   ]
  },
  {
   "cell_type": "markdown",
   "metadata": {},
   "source": [
    "# 2) Tabular Method"
   ]
  },
  {
   "cell_type": "code",
   "execution_count": 2,
   "metadata": {},
   "outputs": [
    {
     "name": "stdout",
     "output_type": "stream",
     "text": [
      "Length of LCS of abdace & babce is: 4\n"
     ]
    }
   ],
   "source": [
    "def lcs(X , Y):\n",
    "    m = len(X)\n",
    "    n = len(Y)\n",
    "    # declaring the array for storing the dp values\n",
    "    dp = [[-1 for i in range(n+1)] for j in range(m+1)]\n",
    " \n",
    "    for i in range(m+1):\n",
    "        for j in range(n+1):\n",
    "            # base case\n",
    "            if i == 0 or j == 0 :\n",
    "                dp[i][j] = 0\n",
    "\n",
    "            # Choices : best case\n",
    "            # if last element of both the str are equal            \n",
    "            elif X[i-1] == Y[j-1]:\n",
    "                dp[i][j] = dp[i-1][j-1] + 1\n",
    "\n",
    "            # else last element of both the str are not equal\n",
    "            else:\n",
    "                # then find the max of both the recursive call\n",
    "                # and store it in dp array\n",
    "                dp[i][j] = max(dp[i-1][j] , dp[i][j-1])\n",
    "    \n",
    "    # finally return solution\n",
    "    return dp[m][n]\n",
    "\n",
    "\n",
    "X = \"abdace\"\n",
    "Y = \"babce\"\n",
    "print(f\"Length of LCS of {X} & {Y} is: {lcs(X, Y)}\")"
   ]
  }
 ],
 "metadata": {
  "interpreter": {
   "hash": "ac59ebe37160ed0dfa835113d9b8498d9f09ceb179beaac4002f036b9467c963"
  },
  "kernelspec": {
   "display_name": "Python 3.9.7 64-bit",
   "language": "python",
   "name": "python3"
  },
  "language_info": {
   "codemirror_mode": {
    "name": "ipython",
    "version": 3
   },
   "file_extension": ".py",
   "mimetype": "text/x-python",
   "name": "python",
   "nbconvert_exporter": "python",
   "pygments_lexer": "ipython3",
   "version": "3.9.7"
  },
  "orig_nbformat": 4
 },
 "nbformat": 4,
 "nbformat_minor": 2
}
