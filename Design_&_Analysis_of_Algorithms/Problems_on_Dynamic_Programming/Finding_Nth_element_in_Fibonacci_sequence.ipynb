{
 "cells": [
  {
   "cell_type": "markdown",
   "metadata": {},
   "source": [
    "# Q1). Implement to find the n $th$ element of Fibonacci number using:\n",
    "###        a) brute - force approach\n",
    "###        b) Using dynamic programming using memoization, Additionally also    compute the number of call computed for both the cases.\n",
    "###        c) Using bottom up approach"
   ]
  },
  {
   "cell_type": "markdown",
   "metadata": {},
   "source": [
    "## 1) Brute-force Approach"
   ]
  },
  {
   "cell_type": "code",
   "execution_count": 1,
   "metadata": {},
   "outputs": [
    {
     "name": "stdout",
     "output_type": "stream",
     "text": [
      "8th fibonacci term is: 21\n",
      "Number of recursive call by Brute force approach is: 67\n"
     ]
    }
   ],
   "source": [
    "def fib(n):\n",
    "    if n<=1:\n",
    "        return n\n",
    "    else:\n",
    "        f = fib(n-1) + fib(n-2)\n",
    "    return f\n",
    "\n",
    "n = int(input(\"Enter the nth term: \"))\n",
    "print(f\"{n}th fibonacci term is: {fib(n)}\")\n",
    "print(f\"Number of recursive call by Brute force approach is: {2*fib(n+1) - 1}\")"
   ]
  },
  {
   "cell_type": "markdown",
   "metadata": {},
   "source": [
    "## 2) Using Dynamic Programming (Memoization i.e. optimizing recursion)"
   ]
  },
  {
   "cell_type": "code",
   "execution_count": 3,
   "metadata": {},
   "outputs": [
    {
     "name": "stdout",
     "output_type": "stream",
     "text": [
      "8th fibonacci term is: 21\n",
      "Number of recursive call by Memoization Technique is: 9\n"
     ]
    }
   ],
   "source": [
    "memory = [-1 for i in range(20)]\n",
    "def fib(n):\n",
    "    if n <=1:\n",
    "        return n\n",
    "        \n",
    "    if memory[n] != -1:\n",
    "        return memory[n]\n",
    "    \n",
    "    memory[n] = fib(n-1) + fib(n-2)\n",
    "    return memory[n]\n",
    "\n",
    "n = int(input(\"Enter the nth term: \"))\n",
    "print(f\"{n}th fibonacci term is: {fib(n)}\")\n",
    "print(f\"Number of recursive call by Memoization Technique is: {n+1}\")"
   ]
  },
  {
   "cell_type": "markdown",
   "metadata": {},
   "source": [
    "## 3) Using Bottom-up Approch (Tabular form)"
   ]
  },
  {
   "cell_type": "code",
   "execution_count": 5,
   "metadata": {},
   "outputs": [
    {
     "name": "stdout",
     "output_type": "stream",
     "text": [
      "8th fibonacci term is: 21\n"
     ]
    }
   ],
   "source": [
    "def fib(n):\n",
    "    f = [0, 1]\n",
    "    for i in range(2, n+1):\n",
    "        f.append(f[i-1] + f[i-2])\n",
    "    return f[n]\n",
    "\n",
    "n = int(input(\"Enter the nth term: \"))\n",
    "print(f\"{n}th fibonacci term is: {fib(n)}\")"
   ]
  }
 ],
 "metadata": {
  "interpreter": {
   "hash": "ac59ebe37160ed0dfa835113d9b8498d9f09ceb179beaac4002f036b9467c963"
  },
  "kernelspec": {
   "display_name": "Python 3.9.7 64-bit",
   "language": "python",
   "name": "python3"
  },
  "language_info": {
   "codemirror_mode": {
    "name": "ipython",
    "version": 3
   },
   "file_extension": ".py",
   "mimetype": "text/x-python",
   "name": "python",
   "nbconvert_exporter": "python",
   "pygments_lexer": "ipython3",
   "version": "3.9.7"
  },
  "orig_nbformat": 4
 },
 "nbformat": 4,
 "nbformat_minor": 2
}
