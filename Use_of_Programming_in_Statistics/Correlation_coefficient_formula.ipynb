{
 "cells": [
  {
   "cell_type": "markdown",
   "metadata": {},
   "source": [
    "# Coeff. of Correlation (r) and Regression Analysis"
   ]
  },
  {
   "cell_type": "code",
   "execution_count": 1,
   "metadata": {},
   "outputs": [
    {
     "name": "stdout",
     "output_type": "stream",
     "text": [
      "Value of ur X variable is : [17, 15, 19, 17, 21]\n",
      " \n",
      "Value of ur Y variable is : [150, 154, 169, 172, 175]\n",
      " \n",
      "Value of standard deviation of X variable is : 4.159999999999999\n",
      " \n",
      "Value of standard deviation of Y variable is : 101.2\n",
      " \n",
      "Value of coefficient of correlation is : 0.721314718045345\n",
      " \n",
      "Value of Regression coefficient x on y is : 0.1462450592885375\n",
      " \n",
      "Value of Regression coefficient y on x is : 3.5576923076923084\n",
      " \n",
      "product of coeff of regression are :  0.5202949224688355\n",
      " \n",
      "Regression equation of X on Y is ==> X - 17.8 = {0.1462450592885375} Y - 23.984189723320153\n",
      " \n",
      "Regression equation of Y on X is ==> Y - 164.0 = {3.5576923076923084} X - 63.326923076923094\n"
     ]
    }
   ],
   "source": [
    "# Enter the values as a complete list like : [17, 15, 19, 17, 21]\n",
    "x = eval(input(\"Enter the values of X variables as a list : \"))\n",
    "y = eval(input(\"Enter the values of Y variables as a list : \"))\n",
    "\n",
    "mean_of_x = (sum(x))/(len(x))\n",
    "mean_of_y = (sum(y))/(len(y))\n",
    "\n",
    "x_bar = [] # X - X' column\n",
    "y_bar = [] # X - X' column\n",
    "\n",
    "for i in x :\n",
    "    x_bar.append(i-mean_of_x)\n",
    "\n",
    "for j in y :\n",
    "    y_bar.append(j-mean_of_y)\n",
    "\n",
    "x_bar_sq = [] # (X - X')^2  column\n",
    "y_bar_sq = [] # (Y - Y')^2  column\n",
    "\n",
    "for k in x_bar:\n",
    "    x_bar_sq.append(k**2)\n",
    "\n",
    "for l in y_bar:\n",
    "    y_bar_sq.append(l**2)\n",
    "\n",
    "a = [] # sum of (X-X').(Y-Y')\n",
    "\n",
    "for m,n in zip(x_bar,y_bar):\n",
    "    a.append(m*n)\n",
    "\n",
    "c = sum(x_bar_sq)\n",
    "d = sum(y_bar_sq)\n",
    "f = sum(a)\n",
    "\n",
    "r = (f)/((c*d)**0.5)\n",
    "\n",
    "bxy = r*(((c/len(x_bar_sq))**0.5)/((d/len(y_bar_sq))**0.5))\n",
    "byx = r*(((d/len(y_bar_sq))**0.5)/((c/len(x_bar_sq))**0.5))\n",
    "\n",
    "g = bxy*mean_of_y \n",
    "h = byx*mean_of_x\n",
    "\n",
    "print(f\"Value of ur X variable is : {x}\")\n",
    "print(\" \")\n",
    "print(f\"Value of ur Y variable is : {y}\")\n",
    "print(\" \")\n",
    "print(f\"Value of standard deviation of X variable is : {(c/len(x_bar_sq))**0.5}\")\n",
    "print(\" \")\n",
    "print(f\"Value of standard deviation of Y variable is : {(d/len(y_bar_sq))**0.5}\")\n",
    "print(\" \")\n",
    "print(f\"Value of coefficient of correlation is : {r}\")\n",
    "print(\" \")\n",
    "print(f\"Value of Regression coefficient x on y is : {bxy}\")\n",
    "print(\" \")\n",
    "print(f\"Value of Regression coefficient y on x is : {byx}\")\n",
    "print(\" \")\n",
    "print(\"product of coeff of regression are : \",bxy*byx)\n",
    "print(\" \")\n",
    "print(\"Regression equation of X on Y is ==> X -\",mean_of_x ,\"=\",{bxy},\"Y -\",g)\n",
    "print(\" \")\n",
    "print(\"Regression equation of Y on X is ==> Y -\",mean_of_y ,\"=\",{byx},\"X -\",h)"
   ]
  },
  {
   "cell_type": "markdown",
   "metadata": {},
   "source": [
    "# Standard Deviation When Frequency is Given"
   ]
  },
  {
   "cell_type": "code",
   "execution_count": 4,
   "metadata": {},
   "outputs": [
    {
     "name": "stdout",
     "output_type": "stream",
     "text": [
      "Value of Standard deviation is : 214.99767440602702\n"
     ]
    }
   ],
   "source": [
    "x = eval(input(\"Enter the values of X variables as a list : \"))\n",
    "y = eval(input(\"Enter the values of frequncies as a list : \"))\n",
    "\n",
    "fi_xi = [] # fi*xi\n",
    "\n",
    "for j,n in zip(x,y):\n",
    "    fi_xi.append(j*n) \n",
    "\n",
    "mean_of_x = (sum(fi_xi))/(sum(y))\n",
    "\n",
    "x_bar = [] # X - X' column\n",
    "\n",
    "for i in x :\n",
    "    x_bar.append(i-mean_of_x)\n",
    "\n",
    "\n",
    "x_bar_sq = [] # (X - X')^2  column\n",
    "fi_xi_sq = [] # fi*(X - X')^2\n",
    "\n",
    "for k in x_bar:\n",
    "    x_bar_sq.append(k**2)\n",
    "\n",
    "for l,m in zip(y,x_bar_sq):\n",
    "    fi_xi_sq.append(l*m)\n",
    "\n",
    "c = sum(fi_xi_sq)/sum(y)\n",
    "\n",
    "print(f\"Value of Standard deviation is : {(c)**0.5}\")\n"
   ]
  },
  {
   "cell_type": "markdown",
   "metadata": {},
   "source": [
    "# Mean Deviation about Mean"
   ]
  },
  {
   "cell_type": "code",
   "execution_count": 10,
   "metadata": {},
   "outputs": [
    {
     "name": "stdout",
     "output_type": "stream",
     "text": [
      "Value of Mean deviation about mean is : 3.75\n"
     ]
    }
   ],
   "source": [
    "x = eval(input(\"Enter the values of X variables as a list : \"))\n",
    "y = eval(input(\"Enter the values of frequncies as a list : \"))\n",
    "\n",
    "fi_xi = [] # fi*xi\n",
    "\n",
    "for j,n in zip(x,y):\n",
    "    fi_xi.append(j*n) \n",
    "\n",
    "mean_of_x = (sum(fi_xi))/(sum(y))\n",
    "\n",
    "x_bar = [] # |X - X'| column\n",
    "\n",
    "for i in x :\n",
    "    x_bar.append(abs(i-mean_of_x))\n",
    "\n",
    "fi_x_bar = [] # fi*|X - X'| column\n",
    "\n",
    "for l,k in zip(y,x_bar):\n",
    "    fi_x_bar.append(l*k)\n",
    "\n",
    "d = sum(fi_x_bar)/sum(y)\n",
    "\n",
    "print(f\"Value of Mean deviation about mean is : {d}\")"
   ]
  },
  {
   "cell_type": "code",
   "execution_count": null,
   "metadata": {},
   "outputs": [],
   "source": []
  }
 ],
 "metadata": {
  "interpreter": {
   "hash": "0600588c3b5f4418cbe7b5ebc6825b479f3bc010269d8b60d75058cdd010adfe"
  },
  "kernelspec": {
   "display_name": "Python 3.7.6 64-bit",
   "name": "python3"
  },
  "language_info": {
   "codemirror_mode": {
    "name": "ipython",
    "version": 3
   },
   "file_extension": ".py",
   "mimetype": "text/x-python",
   "name": "python",
   "nbconvert_exporter": "python",
   "pygments_lexer": "ipython3",
   "version": "3.7.6"
  },
  "metadata": {
   "interpreter": {
    "hash": "ac59ebe37160ed0dfa835113d9b8498d9f09ceb179beaac4002f036b9467c963"
   }
  },
  "orig_nbformat": 2
 },
 "nbformat": 4,
 "nbformat_minor": 2
}
