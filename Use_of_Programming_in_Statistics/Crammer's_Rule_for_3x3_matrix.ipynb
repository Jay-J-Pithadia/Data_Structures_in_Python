{
 "cells": [
  {
   "cell_type": "markdown",
   "metadata": {},
   "source": [
    "## Cramer's Rule for 3x3 Matrix"
   ]
  },
  {
   "cell_type": "code",
   "execution_count": 9,
   "metadata": {},
   "outputs": [
    {
     "name": "stdout",
     "output_type": "stream",
     "text": [
      "This code is for cramer's rule for 3x3 matrix!!!!!!! \n",
      "Enter the first column of ur main matrix (as a list) : [3,-1,0]\n",
      "Enter the second column of ur main matrix (as a list) : [-2,17,-3]\n",
      "Enter the third column of ur main matrix (as a list) : [0,-6,4]\n",
      "Enter the column matrix of constant term (as a list) : [80,80,30]\n",
      "Value of 1st variable 35.2112676056338\n",
      "Value of 2nd variable 12.816901408450704\n",
      "Value of 3rd variable 17.112676056338028\n"
     ]
    }
   ],
   "source": [
    "print(\"This code is for cramer's rule for 3x3 matrix!!!!!!! \")\n",
    "a=eval(input(\"Enter the first column of ur main matrix (as a list) : \"))\n",
    "b=eval(input(\"Enter the second column of ur main matrix (as a list) : \"))\n",
    "c=eval(input(\"Enter the third column of ur main matrix (as a list) : \"))\n",
    "d=eval(input(\"Enter the column matrix of constant term (as a list) : \"))\n",
    "i=d\n",
    "j=d\n",
    "k=d\n",
    "e=(a[0]*((b[1]*c[2])-(c[1]*b[2]))) - (a[1]*((b[0]*c[2])-(c[0]*b[2]))) + (a[2]*((b[0]*c[1])-(c[0]*b[1])))\n",
    "f=(i[0]*((b[1]*c[2])-(c[1]*b[2]))) - (i[1]*((b[0]*c[2])-(c[0]*b[2]))) + (i[2]*((b[0]*c[1])-(c[0]*b[1])))\n",
    "print(\"Value of 1st variable\",f/e)\n",
    "g=(a[0]*((j[1]*c[2])-(c[1]*j[2]))) - (a[1]*((j[0]*c[2])-(c[0]*j[2]))) + (a[2]*((j[0]*c[1])-(c[0]*j[1])))\n",
    "print(\"Value of 2nd variable\",g/e)\n",
    "h=(a[0]*((b[1]*k[2])-(k[1]*b[2]))) - (a[1]*((b[0]*k[2])-(k[0]*b[2]))) + (a[2]*((b[0]*k[1])-(k[0]*b[1])))\n",
    "print(\"Value of 3rd variable\",h/e)"
   ]
  },
  {
   "cell_type": "code",
   "execution_count": null,
   "metadata": {},
   "outputs": [],
   "source": []
  }
 ],
 "metadata": {
  "kernelspec": {
   "display_name": "Python 3.9.2 64-bit",
   "metadata": {
    "interpreter": {
     "hash": "ac59ebe37160ed0dfa835113d9b8498d9f09ceb179beaac4002f036b9467c963"
    }
   },
   "name": "python3"
  },
  "language_info": {
   "codemirror_mode": {
    "name": "ipython",
    "version": 3
   },
   "file_extension": ".py",
   "mimetype": "text/x-python",
   "name": "python",
   "nbconvert_exporter": "python",
   "pygments_lexer": "ipython3",
   "version": "3.9.2-final"
  }
 },
 "nbformat": 4,
 "nbformat_minor": 4
}
