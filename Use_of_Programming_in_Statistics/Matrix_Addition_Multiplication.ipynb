{
 "cells": [
  {
   "cell_type": "markdown",
   "metadata": {},
   "source": [
    "# $Matrix$ $Multiplication$ $program$"
   ]
  },
  {
   "cell_type": "code",
   "execution_count": 3,
   "metadata": {},
   "outputs": [
    {
     "name": "stdout",
     "output_type": "stream",
     "text": [
      "XXXXXXXXXXXXXXXXXXXXXXXXXXX\n",
      " \n",
      "1st Matrix :\n",
      "[[1 2]\n",
      " [0 1]\n",
      " [1 4]\n",
      " [2 3]]\n",
      " \n",
      "XXXXXXXXXXXXXXXXXXXXXXXXXXX\n",
      " \n",
      "2nd Matrix :\n",
      "[[0 1 2 1]\n",
      " [1 0 2 2]]\n",
      " \n",
      "XXXXXXXXXXXXXXXXXXXXXXXXXXX\n",
      " \n",
      "After Multiplication :\n",
      "[[ 2  1  6  5]\n",
      " [ 1  0  2  2]\n",
      " [ 4  1 10  9]\n",
      " [ 3  2 10  8]]\n",
      " \n",
      "XXXXXXXXXXXXXXXXXXXXXXXXXXX\n"
     ]
    }
   ],
   "source": [
    "import numpy as np\n",
    "\n",
    "try :\n",
    "    o1 = eval(input(\"Enter order of ur 1st matrix (as a list) like '[no. of rows, no. of columns]' :\"))\n",
    "    a = eval(input(\"Enter ur 1st matrix as array : \"))\n",
    "    b = np.array(a,dtype=\"i\").reshape(o1[0],o1[1])\n",
    "\n",
    "    o2 = eval(input(\"Enter order of ur 2nd matrix (as a list) like '[no. of rows, no. of columns]' :\"))\n",
    "    c = eval(input(\"Enter ur 2nd matrix as array : \"))\n",
    "    d = np.array(c,dtype=\"i\").reshape(o2[0],o2[1])\n",
    "\n",
    "    e = np.zeros((o1[0],o2[1]),dtype=\"i\")\n",
    "\n",
    "    if o1[1]==o2[0]: # column of 1st marix and row of 2nd matrix should be same for multiply\n",
    "        for i in range(len(b)): # in range have to take no. of rows of 1st matrix i.e. b\n",
    "            for j in range(len(d[0])): # in range have to take no. of columns of 2nd matrix\n",
    "                for k in range(len(d)): # in range , no. of rows of 2nd matrix\n",
    "                    e[i][j] += b[i][k]*d[k][j]\n",
    "        \n",
    "        print(\"XXXXXXXXXXXXXXXXXXXXXXXXXXX\")\n",
    "        print(\" \")\n",
    "        print(\"1st Matrix :\")\n",
    "        print(b)\n",
    "        print(\" \")\n",
    "        print(\"XXXXXXXXXXXXXXXXXXXXXXXXXXX\")\n",
    "        print(\" \")\n",
    "        print(\"2nd Matrix :\")\n",
    "        print(d)\n",
    "        print(\" \")\n",
    "        print(\"XXXXXXXXXXXXXXXXXXXXXXXXXXX\")\n",
    "        print(\" \")\n",
    "        print(\"After Multiplication :\")\n",
    "        print(e)\n",
    "        print(\" \")\n",
    "        print(\"XXXXXXXXXXXXXXXXXXXXXXXXXXX\")\n",
    "\n",
    "\n",
    "except Exception as x:\n",
    "    print(\"your matrix does not match it's size\")\n",
    "    print(\"error is \",x)\n"
   ]
  },
  {
   "cell_type": "markdown",
   "metadata": {},
   "source": [
    "# Matrix Addition Program "
   ]
  },
  {
   "cell_type": "code",
   "execution_count": 16,
   "metadata": {},
   "outputs": [
    {
     "name": "stdout",
     "output_type": "stream",
     "text": [
      "1st Matrix :\n",
      "[[1 2]\n",
      " [3 4]]\n",
      "2nd Matrix :\n",
      "[[5 6]\n",
      " [7 8]]\n",
      "After Addition :\n",
      "[[ 6  8]\n",
      " [10 12]]\n"
     ]
    }
   ],
   "source": [
    "import numpy as np\n",
    "\n",
    "try :\n",
    "    o1 = eval(input(\"Enter order of ur 1st matrix (as a list) in the form of [row,column]:\"))\n",
    "    a = eval(input(\"Enter ur 1st matrix as array\"))\n",
    "    b = np.array(a,dtype=\"i\").reshape(o1[0],o1[1])\n",
    "    \n",
    "    o2 = eval(input(\"Enter order of ur 2nd matrix (as a list) in the form of [row,column]:\"))\n",
    "    c = eval(input(\"Enter ur 2nd matrix as array\"))\n",
    "    d = np.array(c,dtype=\"i\").reshape(o2[0],o2[1])\n",
    "    \n",
    "    e = []\n",
    "    if o1==o2:\n",
    "        e = b + d\n",
    "\n",
    "        print(\"XXXXXXXXXXXXXXXXXXXXXXXXXXXXXX\")\n",
    "        print(\"1st Matrix :\")\n",
    "        print(b)\n",
    "        print(\"XXXXXXXXXXXXXXXXXXXXXXXXXXXXXX\")\n",
    "        print(\"2nd Matrix :\")\n",
    "        print(d)\n",
    "        print(\"XXXXXXXXXXXXXXXXXXXXXXXXXXXXXX\")\n",
    "        print(\"After Addition :\")\n",
    "        print(e)\n",
    "        print(\"XXXXXXXXXXXXXXXXXXXXXXXXXXXXXX\")\n",
    "\n",
    "        \n",
    "except Exception as x:\n",
    "    print(\"your matrix doesnot match it's size\")\n",
    "    print(\"error is \",x)"
   ]
  },
  {
   "cell_type": "code",
   "execution_count": null,
   "metadata": {},
   "outputs": [],
   "source": []
  },
  {
   "cell_type": "code",
   "execution_count": null,
   "metadata": {},
   "outputs": [],
   "source": []
  }
 ],
 "metadata": {
  "interpreter": {
   "hash": "0600588c3b5f4418cbe7b5ebc6825b479f3bc010269d8b60d75058cdd010adfe"
  },
  "kernelspec": {
   "display_name": "Python 3.7.6 64-bit",
   "name": "python3"
  },
  "language_info": {
   "codemirror_mode": {
    "name": "ipython",
    "version": 3
   },
   "file_extension": ".py",
   "mimetype": "text/x-python",
   "name": "python",
   "nbconvert_exporter": "python",
   "pygments_lexer": "ipython3",
   "version": "3.7.6"
  },
  "metadata": {
   "interpreter": {
    "hash": "0600588c3b5f4418cbe7b5ebc6825b479f3bc010269d8b60d75058cdd010adfe"
   }
  },
  "orig_nbformat": 2
 },
 "nbformat": 4,
 "nbformat_minor": 2
}
